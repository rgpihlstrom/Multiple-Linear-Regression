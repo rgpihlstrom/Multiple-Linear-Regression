{
 "cells": [
  {
   "cell_type": "code",
   "execution_count": 55,
   "metadata": {},
   "outputs": [],
   "source": [
    "import pandas as pd\n",
    "import numpy as np\n",
    "import seaborn as sns\n",
    "import matplotlib.pyplot as plt\n",
    "# from mpl_toolkits.mplot3d import Axes3D\n",
    "%matplotlib inline\n",
    "import statsmodels.api as sm\n",
    "\n",
    "from numpy import asarray\n",
    "from sklearn.preprocessing import MinMaxScaler\n",
    "\n",
    "from dateutil.relativedelta import relativedelta\n",
    "\n",
    "pd.set_option('display.max_row', 1000)\n",
    "pd.set_option('display.max_columns', 50)\n",
    "pd.set_option('display.expand_frame_repr', False)\n",
    "pd.set_option('max_colwidth', None)\n",
    "\n",
    "from IPython.display import HTML\n",
    "from IPython.core.interactiveshell import InteractiveShell\n",
    "from statsmodels.stats.outliers_influence import variance_inflation_factor\n",
    "import pickle\n",
    "#pd.reset_option('display.float_format')"
   ]
  },
  {
   "cell_type": "code",
   "execution_count": 56,
   "metadata": {},
   "outputs": [],
   "source": [
    "data = pd.read_csv(\"./data/kc_house_data.csv\")"
   ]
  },
  {
   "cell_type": "markdown",
   "metadata": {},
   "source": [
    "# Misc Functions"
   ]
  },
  {
   "cell_type": "code",
   "execution_count": 57,
   "metadata": {},
   "outputs": [],
   "source": [
    "\n",
    "def checkForColinearity(df_ColsToCheck):\n",
    "    df=df_ColsToCheck.corr().abs().stack().reset_index().sort_values(0, ascending=False)\n",
    "\n",
    "    #zip the variable name columns (Which were only named level_0 and level_1 by default) in a new column named \"pairs\"\n",
    "    df['pairs'] = list(zip(df.level_0, df.level_1))\n",
    "\n",
    "    #set index to pairs\n",
    "    df.set_index(['pairs'], inplace = True)\n",
    "\n",
    "    #drop level columns\n",
    "    df.drop(columns=['level_1', 'level_0'], inplace = True)\n",
    "\n",
    "    #rename correlation column as cc rather than 0\n",
    "    df.columns = ['cc']\n",
    "\n",
    "    #drop duplicates. This could be dangerous if you have variables perfectly correlated with variables other than themselves.\n",
    "    df.drop_duplicates(inplace=True)\n",
    "    df = df[(df.cc>.70) & (df.cc <1)]\n",
    "    return df\n",
    "\n",
    "def correlation_heatmap(df):\n",
    "    _,ax=plt.subplots(figsize=(60,30))\n",
    "    colormap=sns.diverging_palette(220,10,as_cmap=True)\n",
    "    sns.heatmap(df.corr(),annot=True,cmap=colormap)\n",
    "\n",
    "def checkForVIF(df_ColsToCheck):\n",
    "#     X = df[x_cols]\n",
    "    vif = [variance_inflation_factor(df_ColsToCheck.values, i) for i in range(df_ColsToCheck.shape[1])]\n",
    "    vifresults = list(zip(df_ColsToCheck.columns, vif))\n",
    "    return vifresults\n",
    "\n",
    "def scaleData_min_max (df_continuous):\n",
    "    scaler = MinMaxScaler()\n",
    "    # transform data\n",
    "    scaler_a = MinMaxScaler().fit(df_continuous)\n",
    "    scaler_ = scaler.fit_transform(df_continuous)\n",
    "    scaled_df = pd.DataFrame(scaler_, columns=df_continuous.columns)\n",
    "    scaled_df_no_index = scaled_df.reset_index(drop=True)\n",
    "    #\n",
    "    return scaled_df_no_index, scaler_a"
   ]
  },
  {
   "cell_type": "markdown",
   "metadata": {},
   "source": [
    "# Preprocessing"
   ]
  },
  {
   "cell_type": "markdown",
   "metadata": {},
   "source": [
    "Ensure No Missing Values"
   ]
  },
  {
   "cell_type": "code",
   "execution_count": 58,
   "metadata": {},
   "outputs": [
    {
     "name": "stdout",
     "output_type": "stream",
     "text": [
      "waterfront      2376\n",
      "view              63\n",
      "yr_renovated    3842\n",
      "dtype: int64\n"
     ]
    },
    {
     "data": {
      "image/png": "[encoded data removed]",
      "text/plain": [
       "<Figure size 432x288 with 1 Axes>"
      ]
     },
     "metadata": {
      "needs_background": "light"
     },
     "output_type": "display_data"
    }
   ],
   "source": [
    "missing = data.isnull().sum()\n",
    "missing = missing[missing > 0]\n",
    "print (missing)\n",
    "missing.sort_values(inplace=True)\n",
    "missing.plot.bar();"
   ]
  },
  {
   "cell_type": "code",
   "execution_count": 59,
   "metadata": {},
   "outputs": [],
   "source": [
    "#fill In Waterfront and View Nulls\n",
    "data_No_NAs = data\n",
    "data_No_NAs['waterfront'].fillna(data['waterfront'].mode()[0], inplace=True)\n",
    "data_No_NAs['view'].fillna(data['view'].mode()[0], inplace=True)\n",
    "\n",
    "\n",
    "#fill In Year Renovated and insert \"Age of Home\" (Today - Year Built) and \"Years Since Renovated\"\n",
    "data_No_NAs[\"yr_renovated\"].fillna(0, inplace=True)\n",
    "data_No_NAs[\"yr_renovated\"]  = data_No_NAs.apply(lambda row : (row['yr_built']) if row[\"yr_renovated\"] == 0 else row[\"yr_renovated\"], axis=1)\n",
    "# data_No_NAs[\"YearsSinceRenovation\"] = data_No_NAs.apply(lambda row : (2020 - row['yr_renovated']) if row[\"yr_renovated\"] != 0 else (2020 - row[\"yr_built\"]), axis=1)\n",
    "data_No_NAs[\"AgeOfHome\"] = (2020 - data_No_NAs[\"yr_built\"])\n",
    "\n",
    "#handle \"?\" in the sqrt basement column\n",
    "data_No_NAs[\"sqft_basement\"]  = data_No_NAs.apply(lambda row : 0 if row[\"sqft_basement\"] == \"?\" else row[\"sqft_basement\"], axis=1)\n",
    "data_No_NAs[\"sqft_basement\"] = data_No_NAs[\"sqft_basement\"].astype('float')\n",
    "\n",
    "data_No_NAs[\"zipcode_str\"] = data_No_NAs[\"zipcode\"].astype('str')\n",
    "data_No_NAs['ZipFirst3'] = data_No_NAs[\"zipcode_str\"].str[:3]\n",
    "data_No_NAs = data_No_NAs.drop(\"zipcode_str\", axis=1) \n",
    "\n",
    "data_No_NAs['salesyear'] = pd.DatetimeIndex(data_No_NAs['date']).year\n",
    "data_No_NAs['sls_month'] = pd.DatetimeIndex(data_No_NAs['date']).month"
   ]
  },
  {
   "cell_type": "code",
   "execution_count": 60,
   "metadata": {},
   "outputs": [
    {
     "data": {
      "text/plain": [
       "146"
      ]
     },
     "execution_count": 60,
     "metadata": {},
     "output_type": "execute_result"
    }
   ],
   "source": [
    "df_check2 = data_No_NAs.loc[data_No_NAs.waterfront ==1]\n",
    "len(df_check2)"
   ]
  },
  {
   "cell_type": "code",
   "execution_count": 61,
   "metadata": {
    "scrolled": true
   },
   "outputs": [
    {
     "data": {
      "text/html": [
       "<div>\n",
       "<style scoped>\n",
       "    .dataframe tbody tr th:only-of-type {\n",
       "        vertical-align: middle;\n",
       "    }\n",
       "\n",
       "    .dataframe tbody tr th {\n",
       "        vertical-align: top;\n",
       "    }\n",
       "\n",
       "    .dataframe thead th {\n",
       "        text-align: right;\n",
       "    }\n",
       "</style>\n",
       "<table border=\"1\" class=\"dataframe\">\n",
       "  <thead>\n",
       "    <tr style=\"text-align: right;\">\n",
       "      <th></th>\n",
       "      <th>id</th>\n",
       "      <th>date</th>\n",
       "      <th>price</th>\n",
       "      <th>bedrooms</th>\n",
       "      <th>bathrooms</th>\n",
       "      <th>sqft_living</th>\n",
       "      <th>sqft_lot</th>\n",
       "      <th>floors</th>\n",
       "      <th>waterfront</th>\n",
       "      <th>view</th>\n",
       "      <th>condition</th>\n",
       "      <th>grade</th>\n",
       "      <th>sqft_above</th>\n",
       "      <th>sqft_basement</th>\n",
       "      <th>yr_built</th>\n",
       "      <th>yr_renovated</th>\n",
       "      <th>zipcode</th>\n",
       "      <th>lat</th>\n",
       "      <th>long</th>\n",
       "      <th>sqft_living15</th>\n",
       "      <th>sqft_lot15</th>\n",
       "      <th>AgeOfHome</th>\n",
       "      <th>ZipFirst3</th>\n",
       "      <th>salesyear</th>\n",
       "      <th>sls_month</th>\n",
       "    </tr>\n",
       "  </thead>\n",
       "  <tbody>\n",
       "    <tr>\n",
       "      <th>0</th>\n",
       "      <td>7129300520</td>\n",
       "      <td>10/13/2014</td>\n",
       "      <td>221,900</td>\n",
       "      <td>3</td>\n",
       "      <td>1</td>\n",
       "      <td>1180</td>\n",
       "      <td>5650</td>\n",
       "      <td>1</td>\n",
       "      <td>0</td>\n",
       "      <td>0</td>\n",
       "      <td>3</td>\n",
       "      <td>7</td>\n",
       "      <td>1180</td>\n",
       "      <td>0</td>\n",
       "      <td>1955</td>\n",
       "      <td>1,955</td>\n",
       "      <td>98178</td>\n",
       "      <td>48</td>\n",
       "      <td>-122</td>\n",
       "      <td>1340</td>\n",
       "      <td>5650</td>\n",
       "      <td>65</td>\n",
       "      <td>981</td>\n",
       "      <td>2014</td>\n",
       "      <td>10</td>\n",
       "    </tr>\n",
       "    <tr>\n",
       "      <th>1</th>\n",
       "      <td>6414100192</td>\n",
       "      <td>12/9/2014</td>\n",
       "      <td>538,000</td>\n",
       "      <td>3</td>\n",
       "      <td>2</td>\n",
       "      <td>2570</td>\n",
       "      <td>7242</td>\n",
       "      <td>2</td>\n",
       "      <td>0</td>\n",
       "      <td>0</td>\n",
       "      <td>3</td>\n",
       "      <td>7</td>\n",
       "      <td>2170</td>\n",
       "      <td>400</td>\n",
       "      <td>1951</td>\n",
       "      <td>1,991</td>\n",
       "      <td>98125</td>\n",
       "      <td>48</td>\n",
       "      <td>-122</td>\n",
       "      <td>1690</td>\n",
       "      <td>7639</td>\n",
       "      <td>69</td>\n",
       "      <td>981</td>\n",
       "      <td>2014</td>\n",
       "      <td>12</td>\n",
       "    </tr>\n",
       "    <tr>\n",
       "      <th>2</th>\n",
       "      <td>5631500400</td>\n",
       "      <td>2/25/2015</td>\n",
       "      <td>180,000</td>\n",
       "      <td>2</td>\n",
       "      <td>1</td>\n",
       "      <td>770</td>\n",
       "      <td>10000</td>\n",
       "      <td>1</td>\n",
       "      <td>0</td>\n",
       "      <td>0</td>\n",
       "      <td>3</td>\n",
       "      <td>6</td>\n",
       "      <td>770</td>\n",
       "      <td>0</td>\n",
       "      <td>1933</td>\n",
       "      <td>1,933</td>\n",
       "      <td>98028</td>\n",
       "      <td>48</td>\n",
       "      <td>-122</td>\n",
       "      <td>2720</td>\n",
       "      <td>8062</td>\n",
       "      <td>87</td>\n",
       "      <td>980</td>\n",
       "      <td>2015</td>\n",
       "      <td>2</td>\n",
       "    </tr>\n",
       "    <tr>\n",
       "      <th>3</th>\n",
       "      <td>2487200875</td>\n",
       "      <td>12/9/2014</td>\n",
       "      <td>604,000</td>\n",
       "      <td>4</td>\n",
       "      <td>3</td>\n",
       "      <td>1960</td>\n",
       "      <td>5000</td>\n",
       "      <td>1</td>\n",
       "      <td>0</td>\n",
       "      <td>0</td>\n",
       "      <td>5</td>\n",
       "      <td>7</td>\n",
       "      <td>1050</td>\n",
       "      <td>910</td>\n",
       "      <td>1965</td>\n",
       "      <td>1,965</td>\n",
       "      <td>98136</td>\n",
       "      <td>48</td>\n",
       "      <td>-122</td>\n",
       "      <td>1360</td>\n",
       "      <td>5000</td>\n",
       "      <td>55</td>\n",
       "      <td>981</td>\n",
       "      <td>2014</td>\n",
       "      <td>12</td>\n",
       "    </tr>\n",
       "    <tr>\n",
       "      <th>4</th>\n",
       "      <td>1954400510</td>\n",
       "      <td>2/18/2015</td>\n",
       "      <td>510,000</td>\n",
       "      <td>3</td>\n",
       "      <td>2</td>\n",
       "      <td>1680</td>\n",
       "      <td>8080</td>\n",
       "      <td>1</td>\n",
       "      <td>0</td>\n",
       "      <td>0</td>\n",
       "      <td>3</td>\n",
       "      <td>8</td>\n",
       "      <td>1680</td>\n",
       "      <td>0</td>\n",
       "      <td>1987</td>\n",
       "      <td>1,987</td>\n",
       "      <td>98074</td>\n",
       "      <td>48</td>\n",
       "      <td>-122</td>\n",
       "      <td>1800</td>\n",
       "      <td>7503</td>\n",
       "      <td>33</td>\n",
       "      <td>980</td>\n",
       "      <td>2015</td>\n",
       "      <td>2</td>\n",
       "    </tr>\n",
       "  </tbody>\n",
       "</table>\n",
       "</div>"
      ],
      "text/plain": [
       "           id        date   price  bedrooms  bathrooms  sqft_living  sqft_lot  floors  waterfront  view  condition  grade  sqft_above  sqft_basement  yr_built  yr_renovated  zipcode  lat  long  sqft_living15  sqft_lot15  AgeOfHome ZipFirst3  salesyear  sls_month\n",
       "0  7129300520  10/13/2014 221,900         3          1         1180      5650       1           0     0          3      7        1180              0      1955         1,955    98178   48  -122           1340        5650         65       981       2014         10\n",
       "1  6414100192   12/9/2014 538,000         3          2         2570      7242       2           0     0          3      7        2170            400      1951         1,991    98125   48  -122           1690        7639         69       981       2014         12\n",
       "2  5631500400   2/25/2015 180,000         2          1          770     10000       1           0     0          3      6         770              0      1933         1,933    98028   48  -122           2720        8062         87       980       2015          2\n",
       "3  2487200875   12/9/2014 604,000         4          3         1960      5000       1           0     0          5      7        1050            910      1965         1,965    98136   48  -122           1360        5000         55       981       2014         12\n",
       "4  1954400510   2/18/2015 510,000         3          2         1680      8080       1           0     0          3      8        1680              0      1987         1,987    98074   48  -122           1800        7503         33       980       2015          2"
      ]
     },
     "execution_count": 61,
     "metadata": {},
     "output_type": "execute_result"
    }
   ],
   "source": [
    "data_No_NAs.head()"
   ]
  },
  {
   "cell_type": "code",
   "execution_count": 62,
   "metadata": {},
   "outputs": [
    {
     "data": {
      "text/html": [
       "<div>\n",
       "<style scoped>\n",
       "    .dataframe tbody tr th:only-of-type {\n",
       "        vertical-align: middle;\n",
       "    }\n",
       "\n",
       "    .dataframe tbody tr th {\n",
       "        vertical-align: top;\n",
       "    }\n",
       "\n",
       "    .dataframe thead th {\n",
       "        text-align: right;\n",
       "    }\n",
       "</style>\n",
       "<table border=\"1\" class=\"dataframe\">\n",
       "  <thead>\n",
       "    <tr style=\"text-align: right;\">\n",
       "      <th></th>\n",
       "      <th>id</th>\n",
       "      <th>date</th>\n",
       "      <th>price</th>\n",
       "      <th>bedrooms</th>\n",
       "      <th>bathrooms</th>\n",
       "      <th>sqft_living</th>\n",
       "      <th>sqft_lot</th>\n",
       "      <th>floors</th>\n",
       "      <th>waterfront</th>\n",
       "      <th>view</th>\n",
       "      <th>condition</th>\n",
       "      <th>grade</th>\n",
       "      <th>sqft_above</th>\n",
       "      <th>sqft_basement</th>\n",
       "      <th>yr_built</th>\n",
       "      <th>yr_renovated</th>\n",
       "      <th>zipcode</th>\n",
       "      <th>lat</th>\n",
       "      <th>long</th>\n",
       "      <th>sqft_living15</th>\n",
       "      <th>sqft_lot15</th>\n",
       "      <th>AgeOfHome</th>\n",
       "      <th>ZipFirst3</th>\n",
       "      <th>salesyear</th>\n",
       "      <th>sls_month</th>\n",
       "    </tr>\n",
       "  </thead>\n",
       "  <tbody>\n",
       "    <tr>\n",
       "      <th>4252</th>\n",
       "      <td>8732030490</td>\n",
       "      <td>12/22/2014</td>\n",
       "      <td>261,500</td>\n",
       "      <td>4</td>\n",
       "      <td>2</td>\n",
       "      <td>2460</td>\n",
       "      <td>7800</td>\n",
       "      <td>1</td>\n",
       "      <td>0</td>\n",
       "      <td>0</td>\n",
       "      <td>3</td>\n",
       "      <td>8</td>\n",
       "      <td>1500</td>\n",
       "      <td>960</td>\n",
       "      <td>1977</td>\n",
       "      <td>1,977</td>\n",
       "      <td>98023</td>\n",
       "      <td>47</td>\n",
       "      <td>-122</td>\n",
       "      <td>2210</td>\n",
       "      <td>7800</td>\n",
       "      <td>43</td>\n",
       "      <td>980</td>\n",
       "      <td>2014</td>\n",
       "      <td>12</td>\n",
       "    </tr>\n",
       "  </tbody>\n",
       "</table>\n",
       "</div>"
      ],
      "text/plain": [
       "              id        date   price  bedrooms  bathrooms  sqft_living  sqft_lot  floors  waterfront  view  condition  grade  sqft_above  sqft_basement  yr_built  yr_renovated  zipcode  lat  long  sqft_living15  sqft_lot15  AgeOfHome ZipFirst3  salesyear  sls_month\n",
       "4252  8732030490  12/22/2014 261,500         4          2         2460      7800       1           0     0          3      8        1500            960      1977         1,977    98023   47  -122           2210        7800         43       980       2014         12"
      ]
     },
     "execution_count": 62,
     "metadata": {},
     "output_type": "execute_result"
    }
   ],
   "source": [
    "df_check2 = data_No_NAs.loc[data_No_NAs.id ==8732030490]\n",
    "df_check2"
   ]
  },
  {
   "cell_type": "code",
   "execution_count": 63,
   "metadata": {
    "scrolled": true
   },
   "outputs": [
    {
     "data": {
      "text/plain": [
       "id               0\n",
       "date             0\n",
       "price            0\n",
       "bedrooms         0\n",
       "bathrooms        0\n",
       "sqft_living      0\n",
       "sqft_lot         0\n",
       "floors           0\n",
       "waterfront       0\n",
       "view             0\n",
       "condition        0\n",
       "grade            0\n",
       "sqft_above       0\n",
       "sqft_basement    0\n",
       "yr_built         0\n",
       "yr_renovated     0\n",
       "zipcode          0\n",
       "lat              0\n",
       "long             0\n",
       "sqft_living15    0\n",
       "sqft_lot15       0\n",
       "AgeOfHome        0\n",
       "zipcode_str      0\n",
       "ZipFirst3        0\n",
       "dtype: int64"
      ]
     },
     "execution_count": 63,
     "metadata": {},
     "output_type": "execute_result"
    }
   ],
   "source": [
    "missing = data.isnull().sum()\n",
    "missing"
   ]
  },
  {
   "cell_type": "markdown",
   "metadata": {},
   "source": [
    "# <u> <font color='red'>Model 1 Dataset</font></u>"
   ]
  },
  {
   "cell_type": "markdown",
   "metadata": {},
   "source": [
    "##    A. \"Finding\" Target Market"
   ]
  },
  {
   "cell_type": "code",
   "execution_count": 64,
   "metadata": {},
   "outputs": [
    {
     "data": {
      "image/png": "[encoded data removed]",
      "text/plain": [
       "<Figure size 576x576 with 1 Axes>"
      ]
     },
     "metadata": {
      "needs_background": "light"
     },
     "output_type": "display_data"
    }
   ],
   "source": [
    "#distribution of Target/ dependent\n",
    "fig = plt.figure(figsize = (8,8))\n",
    "ax = fig.gca()\n",
    "sns.histplot(x= \"price\",\n",
    "             data=data_No_NAs,\n",
    "             bins=25,\n",
    "             kde=True,\n",
    "             line_kws={\"linewidth\":5}, ax=ax, )\n",
    "plt.show()"
   ]
  },
  {
   "cell_type": "markdown",
   "metadata": {},
   "source": [
    "Majority of Homes Priced <$1,000,000\n",
    "\n",
    "Establish Target Market --> Price Range That Contains Most Data Points "
   ]
  },
  {
   "cell_type": "code",
   "execution_count": 65,
   "metadata": {
    "scrolled": true
   },
   "outputs": [
    {
     "data": {
      "image/png": "[encoded data removed]",
      "text/plain": [
       "<Figure size 432x288 with 1 Axes>"
      ]
     },
     "metadata": {
      "needs_background": "light"
     },
     "output_type": "display_data"
    }
   ],
   "source": [
    "x = np.sort(data_No_NAs['price'])\n",
    "y = np.arange(1, len(x)+1)/ len(x)\n",
    "_ = plt.plot(x, y, marker='.', linestyle='none')\n",
    "_ = plt.hlines(.8, 0, 8000000, colors='red', linestyles='dashdot', label='Target Price Range (Upper)', data=None)\n",
    "_ = plt.hlines(.2, 0, 8000000, colors='red', linestyles='dashdot', label='Target Price Range (Lower)', data=None)\n",
    "_ = plt.ylabel('ECDF')\n",
    "_ = plt.xlabel('Sale Price')\n",
    "plt.legend(loc=\"lower right\")\n",
    "plt.margins(.02) # keeps data from running off edge\n",
    "plt.show()"
   ]
  },
  {
   "cell_type": "code",
   "execution_count": 66,
   "metadata": {},
   "outputs": [
    {
     "data": {
      "text/html": [
       "<div>\n",
       "<style scoped>\n",
       "    .dataframe tbody tr th:only-of-type {\n",
       "        vertical-align: middle;\n",
       "    }\n",
       "\n",
       "    .dataframe tbody tr th {\n",
       "        vertical-align: top;\n",
       "    }\n",
       "\n",
       "    .dataframe thead th {\n",
       "        text-align: right;\n",
       "    }\n",
       "</style>\n",
       "<table border=\"1\" class=\"dataframe\">\n",
       "  <thead>\n",
       "    <tr style=\"text-align: right;\">\n",
       "      <th></th>\n",
       "      <th>id</th>\n",
       "      <th>price</th>\n",
       "      <th>bedrooms</th>\n",
       "      <th>bathrooms</th>\n",
       "      <th>sqft_living</th>\n",
       "      <th>sqft_lot</th>\n",
       "      <th>floors</th>\n",
       "      <th>waterfront</th>\n",
       "      <th>view</th>\n",
       "      <th>condition</th>\n",
       "      <th>grade</th>\n",
       "      <th>sqft_above</th>\n",
       "      <th>sqft_basement</th>\n",
       "      <th>yr_built</th>\n",
       "      <th>yr_renovated</th>\n",
       "      <th>zipcode</th>\n",
       "      <th>lat</th>\n",
       "      <th>long</th>\n",
       "      <th>sqft_living15</th>\n",
       "      <th>sqft_lot15</th>\n",
       "      <th>AgeOfHome</th>\n",
       "      <th>salesyear</th>\n",
       "      <th>sls_month</th>\n",
       "    </tr>\n",
       "  </thead>\n",
       "  <tbody>\n",
       "    <tr>\n",
       "      <th>count</th>\n",
       "      <td>21,597</td>\n",
       "      <td>21,597</td>\n",
       "      <td>21,597</td>\n",
       "      <td>21,597</td>\n",
       "      <td>21,597</td>\n",
       "      <td>21,597</td>\n",
       "      <td>21,597</td>\n",
       "      <td>21,597</td>\n",
       "      <td>21,597</td>\n",
       "      <td>21,597</td>\n",
       "      <td>21,597</td>\n",
       "      <td>21,597</td>\n",
       "      <td>21,597</td>\n",
       "      <td>21,597</td>\n",
       "      <td>21,597</td>\n",
       "      <td>21,597</td>\n",
       "      <td>21,597</td>\n",
       "      <td>21,597</td>\n",
       "      <td>21,597</td>\n",
       "      <td>21,597</td>\n",
       "      <td>21,597</td>\n",
       "      <td>21,597</td>\n",
       "      <td>21,597</td>\n",
       "    </tr>\n",
       "    <tr>\n",
       "      <th>mean</th>\n",
       "      <td>4,580,474,288</td>\n",
       "      <td>540,297</td>\n",
       "      <td>3</td>\n",
       "      <td>2</td>\n",
       "      <td>2,080</td>\n",
       "      <td>15,099</td>\n",
       "      <td>1</td>\n",
       "      <td>0</td>\n",
       "      <td>0</td>\n",
       "      <td>3</td>\n",
       "      <td>8</td>\n",
       "      <td>1,789</td>\n",
       "      <td>286</td>\n",
       "      <td>1,971</td>\n",
       "      <td>1,973</td>\n",
       "      <td>98,078</td>\n",
       "      <td>48</td>\n",
       "      <td>-122</td>\n",
       "      <td>1,987</td>\n",
       "      <td>12,758</td>\n",
       "      <td>49</td>\n",
       "      <td>2,014</td>\n",
       "      <td>7</td>\n",
       "    </tr>\n",
       "    <tr>\n",
       "      <th>std</th>\n",
       "      <td>2,876,735,716</td>\n",
       "      <td>367,368</td>\n",
       "      <td>1</td>\n",
       "      <td>1</td>\n",
       "      <td>918</td>\n",
       "      <td>41,413</td>\n",
       "      <td>1</td>\n",
       "      <td>0</td>\n",
       "      <td>1</td>\n",
       "      <td>1</td>\n",
       "      <td>1</td>\n",
       "      <td>828</td>\n",
       "      <td>440</td>\n",
       "      <td>29</td>\n",
       "      <td>29</td>\n",
       "      <td>54</td>\n",
       "      <td>0</td>\n",
       "      <td>0</td>\n",
       "      <td>685</td>\n",
       "      <td>27,274</td>\n",
       "      <td>29</td>\n",
       "      <td>0</td>\n",
       "      <td>3</td>\n",
       "    </tr>\n",
       "    <tr>\n",
       "      <th>min</th>\n",
       "      <td>1,000,102</td>\n",
       "      <td>78,000</td>\n",
       "      <td>1</td>\n",
       "      <td>0</td>\n",
       "      <td>370</td>\n",
       "      <td>520</td>\n",
       "      <td>1</td>\n",
       "      <td>0</td>\n",
       "      <td>0</td>\n",
       "      <td>1</td>\n",
       "      <td>3</td>\n",
       "      <td>370</td>\n",
       "      <td>0</td>\n",
       "      <td>1,900</td>\n",
       "      <td>1,900</td>\n",
       "      <td>98,001</td>\n",
       "      <td>47</td>\n",
       "      <td>-123</td>\n",
       "      <td>399</td>\n",
       "      <td>651</td>\n",
       "      <td>5</td>\n",
       "      <td>2,014</td>\n",
       "      <td>1</td>\n",
       "    </tr>\n",
       "    <tr>\n",
       "      <th>25%</th>\n",
       "      <td>2,123,049,175</td>\n",
       "      <td>322,000</td>\n",
       "      <td>3</td>\n",
       "      <td>2</td>\n",
       "      <td>1,430</td>\n",
       "      <td>5,040</td>\n",
       "      <td>1</td>\n",
       "      <td>0</td>\n",
       "      <td>0</td>\n",
       "      <td>3</td>\n",
       "      <td>7</td>\n",
       "      <td>1,190</td>\n",
       "      <td>0</td>\n",
       "      <td>1,951</td>\n",
       "      <td>1,954</td>\n",
       "      <td>98,033</td>\n",
       "      <td>47</td>\n",
       "      <td>-122</td>\n",
       "      <td>1,490</td>\n",
       "      <td>5,100</td>\n",
       "      <td>23</td>\n",
       "      <td>2,014</td>\n",
       "      <td>4</td>\n",
       "    </tr>\n",
       "    <tr>\n",
       "      <th>50%</th>\n",
       "      <td>3,904,930,410</td>\n",
       "      <td>450,000</td>\n",
       "      <td>3</td>\n",
       "      <td>2</td>\n",
       "      <td>1,910</td>\n",
       "      <td>7,618</td>\n",
       "      <td>2</td>\n",
       "      <td>0</td>\n",
       "      <td>0</td>\n",
       "      <td>3</td>\n",
       "      <td>7</td>\n",
       "      <td>1,560</td>\n",
       "      <td>0</td>\n",
       "      <td>1,975</td>\n",
       "      <td>1,977</td>\n",
       "      <td>98,065</td>\n",
       "      <td>48</td>\n",
       "      <td>-122</td>\n",
       "      <td>1,840</td>\n",
       "      <td>7,620</td>\n",
       "      <td>45</td>\n",
       "      <td>2,014</td>\n",
       "      <td>6</td>\n",
       "    </tr>\n",
       "    <tr>\n",
       "      <th>75%</th>\n",
       "      <td>7,308,900,490</td>\n",
       "      <td>645,000</td>\n",
       "      <td>4</td>\n",
       "      <td>2</td>\n",
       "      <td>2,550</td>\n",
       "      <td>10,685</td>\n",
       "      <td>2</td>\n",
       "      <td>0</td>\n",
       "      <td>0</td>\n",
       "      <td>4</td>\n",
       "      <td>8</td>\n",
       "      <td>2,210</td>\n",
       "      <td>550</td>\n",
       "      <td>1,997</td>\n",
       "      <td>1,999</td>\n",
       "      <td>98,118</td>\n",
       "      <td>48</td>\n",
       "      <td>-122</td>\n",
       "      <td>2,360</td>\n",
       "      <td>10,083</td>\n",
       "      <td>69</td>\n",
       "      <td>2,015</td>\n",
       "      <td>9</td>\n",
       "    </tr>\n",
       "    <tr>\n",
       "      <th>max</th>\n",
       "      <td>9,900,000,190</td>\n",
       "      <td>7,700,000</td>\n",
       "      <td>33</td>\n",
       "      <td>8</td>\n",
       "      <td>13,540</td>\n",
       "      <td>1,651,359</td>\n",
       "      <td>4</td>\n",
       "      <td>1</td>\n",
       "      <td>4</td>\n",
       "      <td>5</td>\n",
       "      <td>13</td>\n",
       "      <td>9,410</td>\n",
       "      <td>4,820</td>\n",
       "      <td>2,015</td>\n",
       "      <td>2,015</td>\n",
       "      <td>98,199</td>\n",
       "      <td>48</td>\n",
       "      <td>-121</td>\n",
       "      <td>6,210</td>\n",
       "      <td>871,200</td>\n",
       "      <td>120</td>\n",
       "      <td>2,015</td>\n",
       "      <td>12</td>\n",
       "    </tr>\n",
       "  </tbody>\n",
       "</table>\n",
       "</div>"
      ],
      "text/plain": [
       "                 id     price  bedrooms  bathrooms  sqft_living  sqft_lot  floors  waterfront   view  condition  grade  sqft_above  sqft_basement  yr_built  yr_renovated  zipcode    lat   long  sqft_living15  sqft_lot15  AgeOfHome  salesyear  sls_month\n",
       "count        21,597    21,597    21,597     21,597       21,597    21,597  21,597      21,597 21,597     21,597 21,597      21,597         21,597    21,597        21,597   21,597 21,597 21,597         21,597      21,597     21,597     21,597     21,597\n",
       "mean  4,580,474,288   540,297         3          2        2,080    15,099       1           0      0          3      8       1,789            286     1,971         1,973   98,078     48   -122          1,987      12,758         49      2,014          7\n",
       "std   2,876,735,716   367,368         1          1          918    41,413       1           0      1          1      1         828            440        29            29       54      0      0            685      27,274         29          0          3\n",
       "min       1,000,102    78,000         1          0          370       520       1           0      0          1      3         370              0     1,900         1,900   98,001     47   -123            399         651          5      2,014          1\n",
       "25%   2,123,049,175   322,000         3          2        1,430     5,040       1           0      0          3      7       1,190              0     1,951         1,954   98,033     47   -122          1,490       5,100         23      2,014          4\n",
       "50%   3,904,930,410   450,000         3          2        1,910     7,618       2           0      0          3      7       1,560              0     1,975         1,977   98,065     48   -122          1,840       7,620         45      2,014          6\n",
       "75%   7,308,900,490   645,000         4          2        2,550    10,685       2           0      0          4      8       2,210            550     1,997         1,999   98,118     48   -122          2,360      10,083         69      2,015          9\n",
       "max   9,900,000,190 7,700,000        33          8       13,540 1,651,359       4           1      4          5     13       9,410          4,820     2,015         2,015   98,199     48   -121          6,210     871,200        120      2,015         12"
      ]
     },
     "execution_count": 66,
     "metadata": {},
     "output_type": "execute_result"
    }
   ],
   "source": [
    "pd.options.display.float_format = '{:,.0f}'.format\n",
    "data_No_NAs.describe()"
   ]
  },
  {
   "cell_type": "markdown",
   "metadata": {},
   "source": [
    "50% Data Points Between $800,000 - and $250,000, Remove Outliers on both sides and rerun, currently mean and standard deviation impacted significantly by large home values"
   ]
  },
  {
   "cell_type": "code",
   "execution_count": null,
   "metadata": {},
   "outputs": [],
   "source": []
  },
  {
   "cell_type": "code",
   "execution_count": 67,
   "metadata": {
    "scrolled": true
   },
   "outputs": [
    {
     "data": {
      "text/html": [
       "<div>\n",
       "<style scoped>\n",
       "    .dataframe tbody tr th:only-of-type {\n",
       "        vertical-align: middle;\n",
       "    }\n",
       "\n",
       "    .dataframe tbody tr th {\n",
       "        vertical-align: top;\n",
       "    }\n",
       "\n",
       "    .dataframe thead th {\n",
       "        text-align: right;\n",
       "    }\n",
       "</style>\n",
       "<table border=\"1\" class=\"dataframe\">\n",
       "  <thead>\n",
       "    <tr style=\"text-align: right;\">\n",
       "      <th></th>\n",
       "      <th>id</th>\n",
       "      <th>price</th>\n",
       "      <th>bedrooms</th>\n",
       "      <th>bathrooms</th>\n",
       "      <th>sqft_living</th>\n",
       "      <th>sqft_lot</th>\n",
       "      <th>floors</th>\n",
       "      <th>waterfront</th>\n",
       "      <th>view</th>\n",
       "      <th>condition</th>\n",
       "      <th>grade</th>\n",
       "      <th>sqft_above</th>\n",
       "      <th>sqft_basement</th>\n",
       "      <th>yr_built</th>\n",
       "      <th>yr_renovated</th>\n",
       "      <th>zipcode</th>\n",
       "      <th>lat</th>\n",
       "      <th>long</th>\n",
       "      <th>sqft_living15</th>\n",
       "      <th>sqft_lot15</th>\n",
       "      <th>AgeOfHome</th>\n",
       "      <th>salesyear</th>\n",
       "      <th>sls_month</th>\n",
       "      <th>log_price</th>\n",
       "    </tr>\n",
       "  </thead>\n",
       "  <tbody>\n",
       "    <tr>\n",
       "      <th>count</th>\n",
       "      <td>16,170</td>\n",
       "      <td>16,170</td>\n",
       "      <td>16,170</td>\n",
       "      <td>16,170</td>\n",
       "      <td>16,170</td>\n",
       "      <td>16,170</td>\n",
       "      <td>16,170</td>\n",
       "      <td>16,170</td>\n",
       "      <td>16,170</td>\n",
       "      <td>16,170</td>\n",
       "      <td>16,170</td>\n",
       "      <td>16,170</td>\n",
       "      <td>16,170</td>\n",
       "      <td>16,170</td>\n",
       "      <td>16,170</td>\n",
       "      <td>16,170</td>\n",
       "      <td>16,170</td>\n",
       "      <td>16,170</td>\n",
       "      <td>16,170</td>\n",
       "      <td>16,170</td>\n",
       "      <td>16,170</td>\n",
       "      <td>16,170</td>\n",
       "      <td>16,170</td>\n",
       "      <td>16,170</td>\n",
       "    </tr>\n",
       "    <tr>\n",
       "      <th>mean</th>\n",
       "      <td>4,647,897,508</td>\n",
       "      <td>467,108</td>\n",
       "      <td>3</td>\n",
       "      <td>2</td>\n",
       "      <td>1,960</td>\n",
       "      <td>14,321</td>\n",
       "      <td>1</td>\n",
       "      <td>0</td>\n",
       "      <td>0</td>\n",
       "      <td>3</td>\n",
       "      <td>8</td>\n",
       "      <td>1,688</td>\n",
       "      <td>266</td>\n",
       "      <td>1,972</td>\n",
       "      <td>1,974</td>\n",
       "      <td>98,079</td>\n",
       "      <td>48</td>\n",
       "      <td>-122</td>\n",
       "      <td>1,911</td>\n",
       "      <td>12,335</td>\n",
       "      <td>48</td>\n",
       "      <td>2,014</td>\n",
       "      <td>7</td>\n",
       "      <td>13</td>\n",
       "    </tr>\n",
       "    <tr>\n",
       "      <th>std</th>\n",
       "      <td>2,874,291,078</td>\n",
       "      <td>144,243</td>\n",
       "      <td>1</td>\n",
       "      <td>1</td>\n",
       "      <td>680</td>\n",
       "      <td>38,328</td>\n",
       "      <td>1</td>\n",
       "      <td>0</td>\n",
       "      <td>1</td>\n",
       "      <td>1</td>\n",
       "      <td>1</td>\n",
       "      <td>659</td>\n",
       "      <td>398</td>\n",
       "      <td>29</td>\n",
       "      <td>29</td>\n",
       "      <td>51</td>\n",
       "      <td>0</td>\n",
       "      <td>0</td>\n",
       "      <td>545</td>\n",
       "      <td>26,144</td>\n",
       "      <td>29</td>\n",
       "      <td>0</td>\n",
       "      <td>3</td>\n",
       "      <td>0</td>\n",
       "    </tr>\n",
       "    <tr>\n",
       "      <th>min</th>\n",
       "      <td>1,000,102</td>\n",
       "      <td>250,200</td>\n",
       "      <td>1</td>\n",
       "      <td>0</td>\n",
       "      <td>370</td>\n",
       "      <td>520</td>\n",
       "      <td>1</td>\n",
       "      <td>0</td>\n",
       "      <td>0</td>\n",
       "      <td>1</td>\n",
       "      <td>3</td>\n",
       "      <td>370</td>\n",
       "      <td>0</td>\n",
       "      <td>1,900</td>\n",
       "      <td>1,900</td>\n",
       "      <td>98,001</td>\n",
       "      <td>47</td>\n",
       "      <td>-123</td>\n",
       "      <td>399</td>\n",
       "      <td>651</td>\n",
       "      <td>5</td>\n",
       "      <td>2,014</td>\n",
       "      <td>1</td>\n",
       "      <td>12</td>\n",
       "    </tr>\n",
       "    <tr>\n",
       "      <th>25%</th>\n",
       "      <td>2,206,700,094</td>\n",
       "      <td>345,000</td>\n",
       "      <td>3</td>\n",
       "      <td>2</td>\n",
       "      <td>1,460</td>\n",
       "      <td>4,895</td>\n",
       "      <td>1</td>\n",
       "      <td>0</td>\n",
       "      <td>0</td>\n",
       "      <td>3</td>\n",
       "      <td>7</td>\n",
       "      <td>1,200</td>\n",
       "      <td>0</td>\n",
       "      <td>1,952</td>\n",
       "      <td>1,954</td>\n",
       "      <td>98,034</td>\n",
       "      <td>47</td>\n",
       "      <td>-122</td>\n",
       "      <td>1,500</td>\n",
       "      <td>5,000</td>\n",
       "      <td>22</td>\n",
       "      <td>2,014</td>\n",
       "      <td>4</td>\n",
       "      <td>13</td>\n",
       "    </tr>\n",
       "    <tr>\n",
       "      <th>50%</th>\n",
       "      <td>3,982,700,188</td>\n",
       "      <td>445,000</td>\n",
       "      <td>3</td>\n",
       "      <td>2</td>\n",
       "      <td>1,880</td>\n",
       "      <td>7,337</td>\n",
       "      <td>2</td>\n",
       "      <td>0</td>\n",
       "      <td>0</td>\n",
       "      <td>3</td>\n",
       "      <td>7</td>\n",
       "      <td>1,530</td>\n",
       "      <td>0</td>\n",
       "      <td>1,977</td>\n",
       "      <td>1,978</td>\n",
       "      <td>98,072</td>\n",
       "      <td>48</td>\n",
       "      <td>-122</td>\n",
       "      <td>1,820</td>\n",
       "      <td>7,406</td>\n",
       "      <td>43</td>\n",
       "      <td>2,014</td>\n",
       "      <td>6</td>\n",
       "      <td>13</td>\n",
       "    </tr>\n",
       "    <tr>\n",
       "      <th>75%</th>\n",
       "      <td>7,349,615,080</td>\n",
       "      <td>570,000</td>\n",
       "      <td>4</td>\n",
       "      <td>2</td>\n",
       "      <td>2,390</td>\n",
       "      <td>10,140</td>\n",
       "      <td>2</td>\n",
       "      <td>0</td>\n",
       "      <td>0</td>\n",
       "      <td>4</td>\n",
       "      <td>8</td>\n",
       "      <td>2,080</td>\n",
       "      <td>520</td>\n",
       "      <td>1,998</td>\n",
       "      <td>1,999</td>\n",
       "      <td>98,118</td>\n",
       "      <td>48</td>\n",
       "      <td>-122</td>\n",
       "      <td>2,250</td>\n",
       "      <td>9,736</td>\n",
       "      <td>68</td>\n",
       "      <td>2,015</td>\n",
       "      <td>9</td>\n",
       "      <td>13</td>\n",
       "    </tr>\n",
       "    <tr>\n",
       "      <th>max</th>\n",
       "      <td>9,900,000,190</td>\n",
       "      <td>799,990</td>\n",
       "      <td>33</td>\n",
       "      <td>8</td>\n",
       "      <td>5,820</td>\n",
       "      <td>1,651,359</td>\n",
       "      <td>4</td>\n",
       "      <td>1</td>\n",
       "      <td>4</td>\n",
       "      <td>5</td>\n",
       "      <td>11</td>\n",
       "      <td>5,450</td>\n",
       "      <td>2,196</td>\n",
       "      <td>2,015</td>\n",
       "      <td>2,015</td>\n",
       "      <td>98,199</td>\n",
       "      <td>48</td>\n",
       "      <td>-121</td>\n",
       "      <td>4,670</td>\n",
       "      <td>560,617</td>\n",
       "      <td>120</td>\n",
       "      <td>2,015</td>\n",
       "      <td>12</td>\n",
       "      <td>14</td>\n",
       "    </tr>\n",
       "  </tbody>\n",
       "</table>\n",
       "</div>"
      ],
      "text/plain": [
       "                 id   price  bedrooms  bathrooms  sqft_living  sqft_lot  floors  waterfront   view  condition  grade  sqft_above  sqft_basement  yr_built  yr_renovated  zipcode    lat   long  sqft_living15  sqft_lot15  AgeOfHome  salesyear  sls_month  log_price\n",
       "count        16,170  16,170    16,170     16,170       16,170    16,170  16,170      16,170 16,170     16,170 16,170      16,170         16,170    16,170        16,170   16,170 16,170 16,170         16,170      16,170     16,170     16,170     16,170     16,170\n",
       "mean  4,647,897,508 467,108         3          2        1,960    14,321       1           0      0          3      8       1,688            266     1,972         1,974   98,079     48   -122          1,911      12,335         48      2,014          7         13\n",
       "std   2,874,291,078 144,243         1          1          680    38,328       1           0      1          1      1         659            398        29            29       51      0      0            545      26,144         29          0          3          0\n",
       "min       1,000,102 250,200         1          0          370       520       1           0      0          1      3         370              0     1,900         1,900   98,001     47   -123            399         651          5      2,014          1         12\n",
       "25%   2,206,700,094 345,000         3          2        1,460     4,895       1           0      0          3      7       1,200              0     1,952         1,954   98,034     47   -122          1,500       5,000         22      2,014          4         13\n",
       "50%   3,982,700,188 445,000         3          2        1,880     7,337       2           0      0          3      7       1,530              0     1,977         1,978   98,072     48   -122          1,820       7,406         43      2,014          6         13\n",
       "75%   7,349,615,080 570,000         4          2        2,390    10,140       2           0      0          4      8       2,080            520     1,998         1,999   98,118     48   -122          2,250       9,736         68      2,015          9         13\n",
       "max   9,900,000,190 799,990        33          8        5,820 1,651,359       4           1      4          5     11       5,450          2,196     2,015         2,015   98,199     48   -121          4,670     560,617        120      2,015         12         14"
      ]
     },
     "execution_count": 67,
     "metadata": {},
     "output_type": "execute_result"
    }
   ],
   "source": [
    "lower = 250000\n",
    "upper = 800000\n",
    "log_lower = np.log(lower)\n",
    "log_upper = np.log(upper)\n",
    "\n",
    "data_No_NAs[\"log_price\"] = np.log(data_No_NAs['price'])\n",
    "\n",
    "# q_high = data_No_NAs['log_price'].quantile(.85)\n",
    "# q_low = data_No_NAs['log_price'].quantile(.25)\n",
    "\n",
    "q_high = log_upper\n",
    "q_low = log_lower\n",
    "\n",
    "data_Target_Homes = data_No_NAs[data_No_NAs['log_price']<q_high]\n",
    "data_Target_Homes = data_Target_Homes[data_Target_Homes['log_price']>q_low]\n",
    "data_Target_Homes.describe()"
   ]
  },
  {
   "cell_type": "code",
   "execution_count": 68,
   "metadata": {},
   "outputs": [
    {
     "data": {
      "text/plain": [
       "800000.0000000003"
      ]
     },
     "execution_count": 68,
     "metadata": {},
     "output_type": "execute_result"
    }
   ],
   "source": [
    "np.exp(q_high)"
   ]
  },
  {
   "cell_type": "markdown",
   "metadata": {},
   "source": [
    "Mean now closer to 50%"
   ]
  },
  {
   "cell_type": "markdown",
   "metadata": {},
   "source": [
    "Remove additional outliers Ex. bedrooms = 33 , Bathrooms < 8, Sqft_Lot <12000. > 4000, Homes that have sold more than 1 on target years"
   ]
  },
  {
   "cell_type": "code",
   "execution_count": 69,
   "metadata": {},
   "outputs": [],
   "source": [
    "# data_Target_Homes = data_Target_Homes.loc[data_Target_Homes['bedrooms'] < (7)] # > 10 Bedrooms\n",
    "# data_Target_Homes = data_Target_Homes.loc[data_Target_Homes['bathrooms'] < (6)]  # > 6 Bathrooms\n",
    "data_Target_Homes = data_Target_Homes.loc[data_Target_Homes['bathrooms'] >= 1]  # > 6 Bathrooms\n",
    "data_Target_Homes = data_Target_Homes.loc[(4000 <= data_Target_Homes['sqft_lot']) & (data_Target_Homes['sqft_lot'] <= 12000)] #4000, 12000\n",
    "data_Target_Homes = data_Target_Homes.loc[data_Target_Homes['AgeOfHome'] < 50]\n",
    "data_Target_Homes = data_Target_Homes.loc[(data_Target_Homes['sqft_basement'] >100) | (data_Target_Homes['waterfront']==1)]"
   ]
  },
  {
   "cell_type": "code",
   "execution_count": 70,
   "metadata": {},
   "outputs": [
    {
     "data": {
      "text/plain": [
       "1"
      ]
     },
     "execution_count": 70,
     "metadata": {},
     "output_type": "execute_result"
    }
   ],
   "source": [
    "df_check2 = data_Target_Homes.loc[data_Target_Homes.waterfront ==1]\n",
    "len(df_check2)"
   ]
  },
  {
   "cell_type": "code",
   "execution_count": 71,
   "metadata": {
    "scrolled": false
   },
   "outputs": [
    {
     "data": {
      "text/html": [
       "<div>\n",
       "<style scoped>\n",
       "    .dataframe tbody tr th:only-of-type {\n",
       "        vertical-align: middle;\n",
       "    }\n",
       "\n",
       "    .dataframe tbody tr th {\n",
       "        vertical-align: top;\n",
       "    }\n",
       "\n",
       "    .dataframe thead th {\n",
       "        text-align: right;\n",
       "    }\n",
       "</style>\n",
       "<table border=\"1\" class=\"dataframe\">\n",
       "  <thead>\n",
       "    <tr style=\"text-align: right;\">\n",
       "      <th></th>\n",
       "      <th>id</th>\n",
       "      <th>date</th>\n",
       "      <th>price</th>\n",
       "      <th>bedrooms</th>\n",
       "      <th>bathrooms</th>\n",
       "      <th>sqft_living</th>\n",
       "      <th>sqft_lot</th>\n",
       "      <th>floors</th>\n",
       "      <th>waterfront</th>\n",
       "      <th>view</th>\n",
       "      <th>condition</th>\n",
       "      <th>grade</th>\n",
       "      <th>sqft_above</th>\n",
       "      <th>sqft_basement</th>\n",
       "      <th>yr_built</th>\n",
       "      <th>yr_renovated</th>\n",
       "      <th>zipcode</th>\n",
       "      <th>lat</th>\n",
       "      <th>long</th>\n",
       "      <th>sqft_living15</th>\n",
       "      <th>sqft_lot15</th>\n",
       "      <th>AgeOfHome</th>\n",
       "      <th>ZipFirst3</th>\n",
       "      <th>salesyear</th>\n",
       "      <th>sls_month</th>\n",
       "      <th>log_price</th>\n",
       "    </tr>\n",
       "  </thead>\n",
       "  <tbody>\n",
       "    <tr>\n",
       "      <th>16556</th>\n",
       "      <td>2923039243</td>\n",
       "      <td>11/13/2014</td>\n",
       "      <td>340,000</td>\n",
       "      <td>4</td>\n",
       "      <td>1</td>\n",
       "      <td>1200</td>\n",
       "      <td>11834</td>\n",
       "      <td>1</td>\n",
       "      <td>1</td>\n",
       "      <td>3</td>\n",
       "      <td>3</td>\n",
       "      <td>6</td>\n",
       "      <td>1200</td>\n",
       "      <td>0</td>\n",
       "      <td>1972</td>\n",
       "      <td>1,972</td>\n",
       "      <td>98070</td>\n",
       "      <td>47</td>\n",
       "      <td>-122</td>\n",
       "      <td>1670</td>\n",
       "      <td>47462</td>\n",
       "      <td>48</td>\n",
       "      <td>980</td>\n",
       "      <td>2014</td>\n",
       "      <td>11</td>\n",
       "      <td>13</td>\n",
       "    </tr>\n",
       "  </tbody>\n",
       "</table>\n",
       "</div>"
      ],
      "text/plain": [
       "               id        date   price  bedrooms  bathrooms  sqft_living  sqft_lot  floors  waterfront  view  condition  grade  sqft_above  sqft_basement  yr_built  yr_renovated  zipcode  lat  long  sqft_living15  sqft_lot15  AgeOfHome ZipFirst3  salesyear  sls_month  log_price\n",
       "16556  2923039243  11/13/2014 340,000         4          1         1200     11834       1           1     3          3      6        1200              0      1972         1,972    98070   47  -122           1670       47462         48       980       2014         11         13"
      ]
     },
     "execution_count": 71,
     "metadata": {},
     "output_type": "execute_result"
    }
   ],
   "source": [
    "df_check2 = data_Target_Homes.loc[data_Target_Homes.waterfront ==1]\n",
    "df_check2"
   ]
  },
  {
   "cell_type": "code",
   "execution_count": 72,
   "metadata": {
    "scrolled": false
   },
   "outputs": [
    {
     "data": {
      "text/html": [
       "<div>\n",
       "<style scoped>\n",
       "    .dataframe tbody tr th:only-of-type {\n",
       "        vertical-align: middle;\n",
       "    }\n",
       "\n",
       "    .dataframe tbody tr th {\n",
       "        vertical-align: top;\n",
       "    }\n",
       "\n",
       "    .dataframe thead th {\n",
       "        text-align: right;\n",
       "    }\n",
       "</style>\n",
       "<table border=\"1\" class=\"dataframe\">\n",
       "  <thead>\n",
       "    <tr style=\"text-align: right;\">\n",
       "      <th></th>\n",
       "      <th>id</th>\n",
       "      <th>price</th>\n",
       "      <th>bedrooms</th>\n",
       "      <th>bathrooms</th>\n",
       "      <th>sqft_living</th>\n",
       "      <th>sqft_lot</th>\n",
       "      <th>floors</th>\n",
       "      <th>waterfront</th>\n",
       "      <th>view</th>\n",
       "      <th>condition</th>\n",
       "      <th>grade</th>\n",
       "      <th>sqft_above</th>\n",
       "      <th>sqft_basement</th>\n",
       "      <th>yr_built</th>\n",
       "      <th>yr_renovated</th>\n",
       "      <th>zipcode</th>\n",
       "      <th>lat</th>\n",
       "      <th>long</th>\n",
       "      <th>sqft_living15</th>\n",
       "      <th>sqft_lot15</th>\n",
       "      <th>AgeOfHome</th>\n",
       "      <th>salesyear</th>\n",
       "      <th>sls_month</th>\n",
       "      <th>log_price</th>\n",
       "    </tr>\n",
       "  </thead>\n",
       "  <tbody>\n",
       "    <tr>\n",
       "      <th>count</th>\n",
       "      <td>1,410</td>\n",
       "      <td>1,410</td>\n",
       "      <td>1,410</td>\n",
       "      <td>1,410</td>\n",
       "      <td>1,410</td>\n",
       "      <td>1,410</td>\n",
       "      <td>1,410</td>\n",
       "      <td>1,410</td>\n",
       "      <td>1,410</td>\n",
       "      <td>1,410</td>\n",
       "      <td>1,410</td>\n",
       "      <td>1,410</td>\n",
       "      <td>1,410</td>\n",
       "      <td>1,410</td>\n",
       "      <td>1,410</td>\n",
       "      <td>1,410</td>\n",
       "      <td>1,410</td>\n",
       "      <td>1,410</td>\n",
       "      <td>1,410</td>\n",
       "      <td>1,410</td>\n",
       "      <td>1,410</td>\n",
       "      <td>1,410</td>\n",
       "      <td>1,410</td>\n",
       "      <td>1,410</td>\n",
       "    </tr>\n",
       "    <tr>\n",
       "      <th>mean</th>\n",
       "      <td>4,928,127,022</td>\n",
       "      <td>457,895</td>\n",
       "      <td>4</td>\n",
       "      <td>2</td>\n",
       "      <td>2,245</td>\n",
       "      <td>8,055</td>\n",
       "      <td>1</td>\n",
       "      <td>0</td>\n",
       "      <td>0</td>\n",
       "      <td>3</td>\n",
       "      <td>8</td>\n",
       "      <td>1,522</td>\n",
       "      <td>723</td>\n",
       "      <td>1,984</td>\n",
       "      <td>1,984</td>\n",
       "      <td>98,063</td>\n",
       "      <td>48</td>\n",
       "      <td>-122</td>\n",
       "      <td>2,033</td>\n",
       "      <td>8,272</td>\n",
       "      <td>36</td>\n",
       "      <td>2,014</td>\n",
       "      <td>7</td>\n",
       "      <td>13</td>\n",
       "    </tr>\n",
       "    <tr>\n",
       "      <th>std</th>\n",
       "      <td>2,858,022,630</td>\n",
       "      <td>144,636</td>\n",
       "      <td>1</td>\n",
       "      <td>1</td>\n",
       "      <td>632</td>\n",
       "      <td>1,865</td>\n",
       "      <td>0</td>\n",
       "      <td>0</td>\n",
       "      <td>1</td>\n",
       "      <td>1</td>\n",
       "      <td>1</td>\n",
       "      <td>490</td>\n",
       "      <td>298</td>\n",
       "      <td>11</td>\n",
       "      <td>11</td>\n",
       "      <td>50</td>\n",
       "      <td>0</td>\n",
       "      <td>0</td>\n",
       "      <td>476</td>\n",
       "      <td>2,489</td>\n",
       "      <td>11</td>\n",
       "      <td>0</td>\n",
       "      <td>3</td>\n",
       "      <td>0</td>\n",
       "    </tr>\n",
       "    <tr>\n",
       "      <th>min</th>\n",
       "      <td>11,300,120</td>\n",
       "      <td>250,600</td>\n",
       "      <td>1</td>\n",
       "      <td>1</td>\n",
       "      <td>1,090</td>\n",
       "      <td>4,000</td>\n",
       "      <td>1</td>\n",
       "      <td>0</td>\n",
       "      <td>0</td>\n",
       "      <td>2</td>\n",
       "      <td>6</td>\n",
       "      <td>590</td>\n",
       "      <td>0</td>\n",
       "      <td>1,971</td>\n",
       "      <td>1,971</td>\n",
       "      <td>98,001</td>\n",
       "      <td>47</td>\n",
       "      <td>-122</td>\n",
       "      <td>930</td>\n",
       "      <td>1,499</td>\n",
       "      <td>5</td>\n",
       "      <td>2,014</td>\n",
       "      <td>1</td>\n",
       "      <td>12</td>\n",
       "    </tr>\n",
       "    <tr>\n",
       "      <th>25%</th>\n",
       "      <td>2,473,410,442</td>\n",
       "      <td>330,000</td>\n",
       "      <td>3</td>\n",
       "      <td>2</td>\n",
       "      <td>1,790</td>\n",
       "      <td>7,034</td>\n",
       "      <td>1</td>\n",
       "      <td>0</td>\n",
       "      <td>0</td>\n",
       "      <td>3</td>\n",
       "      <td>7</td>\n",
       "      <td>1,210</td>\n",
       "      <td>500</td>\n",
       "      <td>1,977</td>\n",
       "      <td>1,977</td>\n",
       "      <td>98,030</td>\n",
       "      <td>47</td>\n",
       "      <td>-122</td>\n",
       "      <td>1,720</td>\n",
       "      <td>7,228</td>\n",
       "      <td>31</td>\n",
       "      <td>2,014</td>\n",
       "      <td>4</td>\n",
       "      <td>13</td>\n",
       "    </tr>\n",
       "    <tr>\n",
       "      <th>50%</th>\n",
       "      <td>4,099,550,150</td>\n",
       "      <td>440,000</td>\n",
       "      <td>4</td>\n",
       "      <td>2</td>\n",
       "      <td>2,120</td>\n",
       "      <td>7,930</td>\n",
       "      <td>1</td>\n",
       "      <td>0</td>\n",
       "      <td>0</td>\n",
       "      <td>3</td>\n",
       "      <td>8</td>\n",
       "      <td>1,380</td>\n",
       "      <td>690</td>\n",
       "      <td>1,979</td>\n",
       "      <td>1,979</td>\n",
       "      <td>98,052</td>\n",
       "      <td>48</td>\n",
       "      <td>-122</td>\n",
       "      <td>1,960</td>\n",
       "      <td>8,024</td>\n",
       "      <td>41</td>\n",
       "      <td>2,014</td>\n",
       "      <td>6</td>\n",
       "      <td>13</td>\n",
       "    </tr>\n",
       "    <tr>\n",
       "      <th>75%</th>\n",
       "      <td>7,696,115,125</td>\n",
       "      <td>555,000</td>\n",
       "      <td>4</td>\n",
       "      <td>3</td>\n",
       "      <td>2,530</td>\n",
       "      <td>9,528</td>\n",
       "      <td>1</td>\n",
       "      <td>0</td>\n",
       "      <td>0</td>\n",
       "      <td>4</td>\n",
       "      <td>8</td>\n",
       "      <td>1,668</td>\n",
       "      <td>900</td>\n",
       "      <td>1,989</td>\n",
       "      <td>1,989</td>\n",
       "      <td>98,088</td>\n",
       "      <td>48</td>\n",
       "      <td>-122</td>\n",
       "      <td>2,270</td>\n",
       "      <td>9,551</td>\n",
       "      <td>43</td>\n",
       "      <td>2,015</td>\n",
       "      <td>9</td>\n",
       "      <td>13</td>\n",
       "    </tr>\n",
       "    <tr>\n",
       "      <th>max</th>\n",
       "      <td>9,839,300,775</td>\n",
       "      <td>799,950</td>\n",
       "      <td>8</td>\n",
       "      <td>5</td>\n",
       "      <td>5,110</td>\n",
       "      <td>12,000</td>\n",
       "      <td>3</td>\n",
       "      <td>1</td>\n",
       "      <td>4</td>\n",
       "      <td>5</td>\n",
       "      <td>10</td>\n",
       "      <td>3,850</td>\n",
       "      <td>2,170</td>\n",
       "      <td>2,015</td>\n",
       "      <td>2,015</td>\n",
       "      <td>98,199</td>\n",
       "      <td>48</td>\n",
       "      <td>-121</td>\n",
       "      <td>4,410</td>\n",
       "      <td>47,462</td>\n",
       "      <td>49</td>\n",
       "      <td>2,015</td>\n",
       "      <td>12</td>\n",
       "      <td>14</td>\n",
       "    </tr>\n",
       "  </tbody>\n",
       "</table>\n",
       "</div>"
      ],
      "text/plain": [
       "                 id   price  bedrooms  bathrooms  sqft_living  sqft_lot  floors  waterfront  view  condition  grade  sqft_above  sqft_basement  yr_built  yr_renovated  zipcode   lat  long  sqft_living15  sqft_lot15  AgeOfHome  salesyear  sls_month  log_price\n",
       "count         1,410   1,410     1,410      1,410        1,410     1,410   1,410       1,410 1,410      1,410  1,410       1,410          1,410     1,410         1,410    1,410 1,410 1,410          1,410       1,410      1,410      1,410      1,410      1,410\n",
       "mean  4,928,127,022 457,895         4          2        2,245     8,055       1           0     0          3      8       1,522            723     1,984         1,984   98,063    48  -122          2,033       8,272         36      2,014          7         13\n",
       "std   2,858,022,630 144,636         1          1          632     1,865       0           0     1          1      1         490            298        11            11       50     0     0            476       2,489         11          0          3          0\n",
       "min      11,300,120 250,600         1          1        1,090     4,000       1           0     0          2      6         590              0     1,971         1,971   98,001    47  -122            930       1,499          5      2,014          1         12\n",
       "25%   2,473,410,442 330,000         3          2        1,790     7,034       1           0     0          3      7       1,210            500     1,977         1,977   98,030    47  -122          1,720       7,228         31      2,014          4         13\n",
       "50%   4,099,550,150 440,000         4          2        2,120     7,930       1           0     0          3      8       1,380            690     1,979         1,979   98,052    48  -122          1,960       8,024         41      2,014          6         13\n",
       "75%   7,696,115,125 555,000         4          3        2,530     9,528       1           0     0          4      8       1,668            900     1,989         1,989   98,088    48  -122          2,270       9,551         43      2,015          9         13\n",
       "max   9,839,300,775 799,950         8          5        5,110    12,000       3           1     4          5     10       3,850          2,170     2,015         2,015   98,199    48  -121          4,410      47,462         49      2,015         12         14"
      ]
     },
     "execution_count": 72,
     "metadata": {},
     "output_type": "execute_result"
    }
   ],
   "source": [
    "data_Target_Homes.describe()"
   ]
  },
  {
   "cell_type": "code",
   "execution_count": 73,
   "metadata": {},
   "outputs": [],
   "source": [
    "#Remove Homes That have sold More Than Twice In the Same year (Flipper Homes)\n",
    "df_housesThatSoldTwice = data_Target_Homes.groupby('id').count().reset_index().sort_values(by=\"date\", ascending=False)\n",
    "df_housesThatSoldTwice = df_housesThatSoldTwice[df_housesThatSoldTwice[\"date\"] > 1]\n",
    "data_Target_Homes = data_Target_Homes.merge(df_housesThatSoldTwice[['id','date']], on=\"id\", how='left')\n",
    "data_Target_Homes.date_y.fillna(0, inplace=True)\n",
    "data_Target_Homes = data_Target_Homes[data_Target_Homes[\"date_y\"]==0]\n",
    "data_Target_Homes = data_Target_Homes.drop(['date_y'], axis=1)\n",
    "data_Target_Homes.rename(columns={\"date_x\":\"date\"}, inplace=True)"
   ]
  },
  {
   "cell_type": "code",
   "execution_count": 74,
   "metadata": {},
   "outputs": [
    {
     "data": {
      "image/png": "[encoded data removed]",
      "text/plain": [
       "<Figure size 576x576 with 1 Axes>"
      ]
     },
     "metadata": {
      "needs_background": "light"
     },
     "output_type": "display_data"
    }
   ],
   "source": [
    "#distribution of Target/ dependent\n",
    "fig = plt.figure(figsize = (8,8))\n",
    "ax = fig.gca()\n",
    "sns.histplot(x= \"price\",\n",
    "             data=data_Target_Homes,\n",
    "             bins=25,\n",
    "             kde=True,\n",
    "             line_kws={\"linewidth\":5}, ax=ax, )\n",
    "plt.show()"
   ]
  },
  {
   "cell_type": "code",
   "execution_count": 75,
   "metadata": {
    "scrolled": false
   },
   "outputs": [
    {
     "data": {
      "image/png": "[encoded data removed]",
      "text/plain": [
       "<Figure size 576x576 with 1 Axes>"
      ]
     },
     "metadata": {
      "needs_background": "light"
     },
     "output_type": "display_data"
    }
   ],
   "source": [
    "#distribution of Target/ dependent\n",
    "fig = plt.figure(figsize = (8,8))\n",
    "ax = fig.gca()\n",
    "sns.histplot(x= \"log_price\",\n",
    "             data=data_Target_Homes,\n",
    "             bins=25,\n",
    "             kde=True,\n",
    "             line_kws={\"linewidth\":5}, ax=ax, )\n",
    "plt.show()"
   ]
  },
  {
   "cell_type": "code",
   "execution_count": 76,
   "metadata": {},
   "outputs": [
    {
     "data": {
      "text/html": [
       "<div>\n",
       "<style scoped>\n",
       "    .dataframe tbody tr th:only-of-type {\n",
       "        vertical-align: middle;\n",
       "    }\n",
       "\n",
       "    .dataframe tbody tr th {\n",
       "        vertical-align: top;\n",
       "    }\n",
       "\n",
       "    .dataframe thead th {\n",
       "        text-align: right;\n",
       "    }\n",
       "</style>\n",
       "<table border=\"1\" class=\"dataframe\">\n",
       "  <thead>\n",
       "    <tr style=\"text-align: right;\">\n",
       "      <th></th>\n",
       "      <th>id</th>\n",
       "      <th>price</th>\n",
       "      <th>bedrooms</th>\n",
       "      <th>bathrooms</th>\n",
       "      <th>sqft_living</th>\n",
       "      <th>sqft_lot</th>\n",
       "      <th>floors</th>\n",
       "      <th>waterfront</th>\n",
       "      <th>view</th>\n",
       "      <th>condition</th>\n",
       "      <th>grade</th>\n",
       "      <th>sqft_above</th>\n",
       "      <th>sqft_basement</th>\n",
       "      <th>yr_built</th>\n",
       "      <th>yr_renovated</th>\n",
       "      <th>zipcode</th>\n",
       "      <th>lat</th>\n",
       "      <th>long</th>\n",
       "      <th>sqft_living15</th>\n",
       "      <th>sqft_lot15</th>\n",
       "      <th>AgeOfHome</th>\n",
       "      <th>salesyear</th>\n",
       "      <th>sls_month</th>\n",
       "      <th>log_price</th>\n",
       "    </tr>\n",
       "  </thead>\n",
       "  <tbody>\n",
       "    <tr>\n",
       "      <th>count</th>\n",
       "      <td>1,398</td>\n",
       "      <td>1,398</td>\n",
       "      <td>1,398</td>\n",
       "      <td>1,398</td>\n",
       "      <td>1,398</td>\n",
       "      <td>1,398</td>\n",
       "      <td>1,398</td>\n",
       "      <td>1,398</td>\n",
       "      <td>1,398</td>\n",
       "      <td>1,398</td>\n",
       "      <td>1,398</td>\n",
       "      <td>1,398</td>\n",
       "      <td>1,398</td>\n",
       "      <td>1,398</td>\n",
       "      <td>1,398</td>\n",
       "      <td>1,398</td>\n",
       "      <td>1,398</td>\n",
       "      <td>1,398</td>\n",
       "      <td>1,398</td>\n",
       "      <td>1,398</td>\n",
       "      <td>1,398</td>\n",
       "      <td>1,398</td>\n",
       "      <td>1,398</td>\n",
       "      <td>1,398</td>\n",
       "    </tr>\n",
       "    <tr>\n",
       "      <th>mean</th>\n",
       "      <td>4,928,521,486</td>\n",
       "      <td>458,139</td>\n",
       "      <td>4</td>\n",
       "      <td>2</td>\n",
       "      <td>2,247</td>\n",
       "      <td>8,046</td>\n",
       "      <td>1</td>\n",
       "      <td>0</td>\n",
       "      <td>0</td>\n",
       "      <td>3</td>\n",
       "      <td>8</td>\n",
       "      <td>1,524</td>\n",
       "      <td>723</td>\n",
       "      <td>1,984</td>\n",
       "      <td>1,984</td>\n",
       "      <td>98,063</td>\n",
       "      <td>48</td>\n",
       "      <td>-122</td>\n",
       "      <td>2,031</td>\n",
       "      <td>8,260</td>\n",
       "      <td>36</td>\n",
       "      <td>2,014</td>\n",
       "      <td>7</td>\n",
       "      <td>13</td>\n",
       "    </tr>\n",
       "    <tr>\n",
       "      <th>std</th>\n",
       "      <td>2,851,332,214</td>\n",
       "      <td>144,653</td>\n",
       "      <td>1</td>\n",
       "      <td>1</td>\n",
       "      <td>632</td>\n",
       "      <td>1,858</td>\n",
       "      <td>0</td>\n",
       "      <td>0</td>\n",
       "      <td>1</td>\n",
       "      <td>1</td>\n",
       "      <td>1</td>\n",
       "      <td>491</td>\n",
       "      <td>298</td>\n",
       "      <td>11</td>\n",
       "      <td>11</td>\n",
       "      <td>50</td>\n",
       "      <td>0</td>\n",
       "      <td>0</td>\n",
       "      <td>476</td>\n",
       "      <td>2,493</td>\n",
       "      <td>11</td>\n",
       "      <td>0</td>\n",
       "      <td>3</td>\n",
       "      <td>0</td>\n",
       "    </tr>\n",
       "    <tr>\n",
       "      <th>min</th>\n",
       "      <td>11,300,120</td>\n",
       "      <td>250,600</td>\n",
       "      <td>1</td>\n",
       "      <td>1</td>\n",
       "      <td>1,090</td>\n",
       "      <td>4,000</td>\n",
       "      <td>1</td>\n",
       "      <td>0</td>\n",
       "      <td>0</td>\n",
       "      <td>2</td>\n",
       "      <td>6</td>\n",
       "      <td>590</td>\n",
       "      <td>0</td>\n",
       "      <td>1,971</td>\n",
       "      <td>1,971</td>\n",
       "      <td>98,001</td>\n",
       "      <td>47</td>\n",
       "      <td>-122</td>\n",
       "      <td>930</td>\n",
       "      <td>1,499</td>\n",
       "      <td>5</td>\n",
       "      <td>2,014</td>\n",
       "      <td>1</td>\n",
       "      <td>12</td>\n",
       "    </tr>\n",
       "    <tr>\n",
       "      <th>25%</th>\n",
       "      <td>2,473,410,788</td>\n",
       "      <td>330,000</td>\n",
       "      <td>3</td>\n",
       "      <td>2</td>\n",
       "      <td>1,790</td>\n",
       "      <td>7,030</td>\n",
       "      <td>1</td>\n",
       "      <td>0</td>\n",
       "      <td>0</td>\n",
       "      <td>3</td>\n",
       "      <td>7</td>\n",
       "      <td>1,217</td>\n",
       "      <td>500</td>\n",
       "      <td>1,977</td>\n",
       "      <td>1,977</td>\n",
       "      <td>98,030</td>\n",
       "      <td>47</td>\n",
       "      <td>-122</td>\n",
       "      <td>1,720</td>\n",
       "      <td>7,225</td>\n",
       "      <td>31</td>\n",
       "      <td>2,014</td>\n",
       "      <td>4</td>\n",
       "      <td>13</td>\n",
       "    </tr>\n",
       "    <tr>\n",
       "      <th>50%</th>\n",
       "      <td>4,099,550,150</td>\n",
       "      <td>440,000</td>\n",
       "      <td>4</td>\n",
       "      <td>2</td>\n",
       "      <td>2,120</td>\n",
       "      <td>7,925</td>\n",
       "      <td>1</td>\n",
       "      <td>0</td>\n",
       "      <td>0</td>\n",
       "      <td>3</td>\n",
       "      <td>8</td>\n",
       "      <td>1,390</td>\n",
       "      <td>690</td>\n",
       "      <td>1,979</td>\n",
       "      <td>1,979</td>\n",
       "      <td>98,052</td>\n",
       "      <td>48</td>\n",
       "      <td>-122</td>\n",
       "      <td>1,960</td>\n",
       "      <td>8,008</td>\n",
       "      <td>41</td>\n",
       "      <td>2,014</td>\n",
       "      <td>6</td>\n",
       "      <td>13</td>\n",
       "    </tr>\n",
       "    <tr>\n",
       "      <th>75%</th>\n",
       "      <td>7,691,900,202</td>\n",
       "      <td>556,875</td>\n",
       "      <td>4</td>\n",
       "      <td>3</td>\n",
       "      <td>2,530</td>\n",
       "      <td>9,517</td>\n",
       "      <td>1</td>\n",
       "      <td>0</td>\n",
       "      <td>0</td>\n",
       "      <td>4</td>\n",
       "      <td>8</td>\n",
       "      <td>1,670</td>\n",
       "      <td>900</td>\n",
       "      <td>1,989</td>\n",
       "      <td>1,989</td>\n",
       "      <td>98,092</td>\n",
       "      <td>48</td>\n",
       "      <td>-122</td>\n",
       "      <td>2,270</td>\n",
       "      <td>9,534</td>\n",
       "      <td>43</td>\n",
       "      <td>2,015</td>\n",
       "      <td>9</td>\n",
       "      <td>13</td>\n",
       "    </tr>\n",
       "    <tr>\n",
       "      <th>max</th>\n",
       "      <td>9,839,300,775</td>\n",
       "      <td>799,950</td>\n",
       "      <td>8</td>\n",
       "      <td>5</td>\n",
       "      <td>5,110</td>\n",
       "      <td>12,000</td>\n",
       "      <td>3</td>\n",
       "      <td>1</td>\n",
       "      <td>4</td>\n",
       "      <td>5</td>\n",
       "      <td>10</td>\n",
       "      <td>3,850</td>\n",
       "      <td>2,170</td>\n",
       "      <td>2,015</td>\n",
       "      <td>2,015</td>\n",
       "      <td>98,199</td>\n",
       "      <td>48</td>\n",
       "      <td>-121</td>\n",
       "      <td>4,410</td>\n",
       "      <td>47,462</td>\n",
       "      <td>49</td>\n",
       "      <td>2,015</td>\n",
       "      <td>12</td>\n",
       "      <td>14</td>\n",
       "    </tr>\n",
       "  </tbody>\n",
       "</table>\n",
       "</div>"
      ],
      "text/plain": [
       "                 id   price  bedrooms  bathrooms  sqft_living  sqft_lot  floors  waterfront  view  condition  grade  sqft_above  sqft_basement  yr_built  yr_renovated  zipcode   lat  long  sqft_living15  sqft_lot15  AgeOfHome  salesyear  sls_month  log_price\n",
       "count         1,398   1,398     1,398      1,398        1,398     1,398   1,398       1,398 1,398      1,398  1,398       1,398          1,398     1,398         1,398    1,398 1,398 1,398          1,398       1,398      1,398      1,398      1,398      1,398\n",
       "mean  4,928,521,486 458,139         4          2        2,247     8,046       1           0     0          3      8       1,524            723     1,984         1,984   98,063    48  -122          2,031       8,260         36      2,014          7         13\n",
       "std   2,851,332,214 144,653         1          1          632     1,858       0           0     1          1      1         491            298        11            11       50     0     0            476       2,493         11          0          3          0\n",
       "min      11,300,120 250,600         1          1        1,090     4,000       1           0     0          2      6         590              0     1,971         1,971   98,001    47  -122            930       1,499          5      2,014          1         12\n",
       "25%   2,473,410,788 330,000         3          2        1,790     7,030       1           0     0          3      7       1,217            500     1,977         1,977   98,030    47  -122          1,720       7,225         31      2,014          4         13\n",
       "50%   4,099,550,150 440,000         4          2        2,120     7,925       1           0     0          3      8       1,390            690     1,979         1,979   98,052    48  -122          1,960       8,008         41      2,014          6         13\n",
       "75%   7,691,900,202 556,875         4          3        2,530     9,517       1           0     0          4      8       1,670            900     1,989         1,989   98,092    48  -122          2,270       9,534         43      2,015          9         13\n",
       "max   9,839,300,775 799,950         8          5        5,110    12,000       3           1     4          5     10       3,850          2,170     2,015         2,015   98,199    48  -121          4,410      47,462         49      2,015         12         14"
      ]
     },
     "execution_count": 76,
     "metadata": {},
     "output_type": "execute_result"
    }
   ],
   "source": [
    "data_Target_Homes.describe()"
   ]
  },
  {
   "cell_type": "markdown",
   "metadata": {},
   "source": [
    "##    B. Scaling, Converting & Eliminating Multicolinearity"
   ]
  },
  {
   "cell_type": "code",
   "execution_count": 77,
   "metadata": {},
   "outputs": [],
   "source": [
    "model1_Continuous_variables  = ['bedrooms', 'bathrooms','sqft_lot', 'floors', \n",
    "                                                  'sqft_above', 'sqft_basement', 'sqft_living15', 'AgeOfHome']\n",
    "\n",
    "data_Target_Homes_Continuous = data_Target_Homes[model1_Continuous_variables]\n",
    "# model1_Continuous_variables = data_Target_Homes_Continuous.columns"
   ]
  },
  {
   "cell_type": "code",
   "execution_count": 78,
   "metadata": {},
   "outputs": [],
   "source": [
    "#Scale Continuous initial data\n",
    "scaled_df_no_index, scaler_1 = scaleData_min_max (data_Target_Homes_Continuous)"
   ]
  },
  {
   "cell_type": "code",
   "execution_count": 83,
   "metadata": {},
   "outputs": [
    {
     "data": {
      "text/html": [
       "<div>\n",
       "<style scoped>\n",
       "    .dataframe tbody tr th:only-of-type {\n",
       "        vertical-align: middle;\n",
       "    }\n",
       "\n",
       "    .dataframe tbody tr th {\n",
       "        vertical-align: top;\n",
       "    }\n",
       "\n",
       "    .dataframe thead th {\n",
       "        text-align: right;\n",
       "    }\n",
       "</style>\n",
       "<table border=\"1\" class=\"dataframe\">\n",
       "  <thead>\n",
       "    <tr style=\"text-align: right;\">\n",
       "      <th></th>\n",
       "      <th>bedrooms</th>\n",
       "      <th>bathrooms</th>\n",
       "      <th>sqft_lot</th>\n",
       "      <th>floors</th>\n",
       "      <th>sqft_above</th>\n",
       "      <th>sqft_basement</th>\n",
       "      <th>sqft_living15</th>\n",
       "      <th>AgeOfHome</th>\n",
       "    </tr>\n",
       "  </thead>\n",
       "  <tbody>\n",
       "    <tr>\n",
       "      <th>0</th>\n",
       "      <td>0.428571</td>\n",
       "      <td>0.5000</td>\n",
       "      <td>0.125000</td>\n",
       "      <td>0.5</td>\n",
       "      <td>0.426380</td>\n",
       "      <td>0.447005</td>\n",
       "      <td>0.347701</td>\n",
       "      <td>0.818182</td>\n",
       "    </tr>\n",
       "    <tr>\n",
       "      <th>1</th>\n",
       "      <td>0.428571</td>\n",
       "      <td>0.4375</td>\n",
       "      <td>0.332375</td>\n",
       "      <td>0.0</td>\n",
       "      <td>0.211656</td>\n",
       "      <td>0.359447</td>\n",
       "      <td>0.313218</td>\n",
       "      <td>0.772727</td>\n",
       "    </tr>\n",
       "    <tr>\n",
       "      <th>2</th>\n",
       "      <td>0.142857</td>\n",
       "      <td>0.1875</td>\n",
       "      <td>0.568750</td>\n",
       "      <td>0.0</td>\n",
       "      <td>0.122699</td>\n",
       "      <td>0.456221</td>\n",
       "      <td>0.158046</td>\n",
       "      <td>0.772727</td>\n",
       "    </tr>\n",
       "    <tr>\n",
       "      <th>3</th>\n",
       "      <td>0.285714</td>\n",
       "      <td>0.3125</td>\n",
       "      <td>0.250000</td>\n",
       "      <td>0.0</td>\n",
       "      <td>0.159509</td>\n",
       "      <td>0.253456</td>\n",
       "      <td>0.146552</td>\n",
       "      <td>0.818182</td>\n",
       "    </tr>\n",
       "    <tr>\n",
       "      <th>4</th>\n",
       "      <td>0.285714</td>\n",
       "      <td>0.5625</td>\n",
       "      <td>0.284750</td>\n",
       "      <td>0.5</td>\n",
       "      <td>0.426380</td>\n",
       "      <td>0.364055</td>\n",
       "      <td>0.278736</td>\n",
       "      <td>0.204545</td>\n",
       "    </tr>\n",
       "  </tbody>\n",
       "</table>\n",
       "</div>"
      ],
      "text/plain": [
       "   bedrooms  bathrooms  sqft_lot  floors  sqft_above  sqft_basement  sqft_living15  AgeOfHome\n",
       "0  0.428571     0.5000  0.125000     0.5    0.426380       0.447005       0.347701   0.818182\n",
       "1  0.428571     0.4375  0.332375     0.0    0.211656       0.359447       0.313218   0.772727\n",
       "2  0.142857     0.1875  0.568750     0.0    0.122699       0.456221       0.158046   0.772727\n",
       "3  0.285714     0.3125  0.250000     0.0    0.159509       0.253456       0.146552   0.818182\n",
       "4  0.285714     0.5625  0.284750     0.5    0.426380       0.364055       0.278736   0.204545"
      ]
     },
     "execution_count": 83,
     "metadata": {},
     "output_type": "execute_result"
    }
   ],
   "source": [
    "pd.reset_option('display.float_format')\n",
    "scaled_df_no_index.head()"
   ]
  },
  {
   "cell_type": "code",
   "execution_count": 85,
   "metadata": {
    "scrolled": true
   },
   "outputs": [
    {
     "data": {
      "text/plain": [
       "pandas.core.frame.DataFrame"
      ]
     },
     "execution_count": 85,
     "metadata": {},
     "output_type": "execute_result"
    }
   ],
   "source": [
    "# df = pd.DataFrame([[1,1.23,'Hello']], columns=list('ABC'))\n",
    "df2 = pd.DataFrame([[4000]],columns=['sqft_lot'])\n",
    "type(df2)"
   ]
  },
  {
   "cell_type": "code",
   "execution_count": 86,
   "metadata": {},
   "outputs": [
    {
     "ename": "ValueError",
     "evalue": "non-broadcastable output operand with shape (1,1) doesn't match the broadcast shape (1,8)",
     "output_type": "error",
     "traceback": [
      "\u001b[1;31m---------------------------------------------------------------------------\u001b[0m",
      "\u001b[1;31mValueError\u001b[0m                                Traceback (most recent call last)",
      "\u001b[1;32m<ipython-input-86-e82930666a8a>\u001b[0m in \u001b[0;36m<module>\u001b[1;34m\u001b[0m\n\u001b[1;32m----> 1\u001b[1;33m \u001b[0mvalue\u001b[0m \u001b[1;33m=\u001b[0m \u001b[0mscaler_1\u001b[0m\u001b[1;33m.\u001b[0m\u001b[0mtransform\u001b[0m\u001b[1;33m(\u001b[0m\u001b[0mdf2\u001b[0m\u001b[1;33m)\u001b[0m\u001b[1;33m\u001b[0m\u001b[1;33m\u001b[0m\u001b[0m\n\u001b[0m\u001b[0;32m      2\u001b[0m \u001b[0mvalue\u001b[0m\u001b[1;33m\u001b[0m\u001b[1;33m\u001b[0m\u001b[0m\n",
      "\u001b[1;32m~\\anaconda3a\\lib\\site-packages\\sklearn\\preprocessing\\_data.py\u001b[0m in \u001b[0;36mtransform\u001b[1;34m(self, X)\u001b[0m\n\u001b[0;32m    408\u001b[0m                         force_all_finite=\"allow-nan\")\n\u001b[0;32m    409\u001b[0m \u001b[1;33m\u001b[0m\u001b[0m\n\u001b[1;32m--> 410\u001b[1;33m         \u001b[0mX\u001b[0m \u001b[1;33m*=\u001b[0m \u001b[0mself\u001b[0m\u001b[1;33m.\u001b[0m\u001b[0mscale_\u001b[0m\u001b[1;33m\u001b[0m\u001b[1;33m\u001b[0m\u001b[0m\n\u001b[0m\u001b[0;32m    411\u001b[0m         \u001b[0mX\u001b[0m \u001b[1;33m+=\u001b[0m \u001b[0mself\u001b[0m\u001b[1;33m.\u001b[0m\u001b[0mmin_\u001b[0m\u001b[1;33m\u001b[0m\u001b[1;33m\u001b[0m\u001b[0m\n\u001b[0;32m    412\u001b[0m         \u001b[1;32mreturn\u001b[0m \u001b[0mX\u001b[0m\u001b[1;33m\u001b[0m\u001b[1;33m\u001b[0m\u001b[0m\n",
      "\u001b[1;31mValueError\u001b[0m: non-broadcastable output operand with shape (1,1) doesn't match the broadcast shape (1,8)"
     ]
    }
   ],
   "source": [
    "value = scaler_1.transform(df2)\n",
    "value"
   ]
  },
  {
   "cell_type": "markdown",
   "metadata": {
    "scrolled": false
   },
   "source": [
    "Convert Categorical To Dummy"
   ]
  },
  {
   "cell_type": "code",
   "execution_count": null,
   "metadata": {},
   "outputs": [],
   "source": [
    "# categoricals = ['waterfront', 'view', 'condition', 'grade']\n",
    "# dummies = pd.get_dummies(data_with_Ap_Hot_Dist_POints[categoricals], prefix=categoricals, drop_first=True)\n",
    "\n",
    "dummies_3digitZip = pd.get_dummies(data_Target_Homes['ZipFirst3'], prefix='ZipFirst3', drop_first=True)\n",
    "data_Target_Homes = data_Target_Homes.drop('ZipFirst3', axis=1)\n",
    "\n",
    "dummies_water = pd.get_dummies(data_Target_Homes['waterfront'], prefix='waterfront', drop_first=True)\n",
    "data_Target_Homes = data_Target_Homes.drop('waterfront', axis=1)\n",
    "\n",
    "dummies_view = pd.get_dummies(data_Target_Homes['view'], prefix='view', drop_first=True)\n",
    "data_Target_Homes = data_Target_Homes.drop('view', axis=1)\n",
    "\n",
    "dummies_condition = pd.get_dummies(data_Target_Homes['condition'], prefix='condition', drop_first=True)\n",
    "data_Target_Homes = data_Target_Homes.drop('condition', axis=1)\n",
    "\n",
    "dummies_grade = pd.get_dummies(data_Target_Homes['grade'], prefix='grade', drop_first=True)\n",
    "data_Target_Homes = data_Target_Homes.drop('grade', axis=1)\n",
    "\n",
    "dummies_salesMnth = pd.get_dummies(data_Target_Homes['sls_month'], prefix='sls_mnth' ,drop_first=True)\n",
    "data_Target_Homes = data_Target_Homes.drop('sls_month', axis=1)\n",
    "\n",
    "\n",
    "\n",
    "\n",
    "data_Target_Homes_Not_Scaled_WithDummies = pd.concat([data_Target_Homes, dummies_water], axis=1)\n",
    "data_Target_Homes_Not_Scaled_WithDummies = pd.concat([data_Target_Homes_Not_Scaled_WithDummies, dummies_3digitZip], axis=1)\n",
    "data_Target_Homes_Not_Scaled_WithDummies = pd.concat([data_Target_Homes_Not_Scaled_WithDummies, dummies_view], axis=1)\n",
    "data_Target_Homes_Not_Scaled_WithDummies = pd.concat([data_Target_Homes_Not_Scaled_WithDummies, dummies_condition], axis=1)\n",
    "data_Target_Homes_Not_Scaled_WithDummies = pd.concat([data_Target_Homes_Not_Scaled_WithDummies, dummies_grade], axis=1)\n",
    "data_Target_Homes_Not_Scaled_WithDummies = pd.concat([data_Target_Homes_Not_Scaled_WithDummies, dummies_salesMnth], axis=1)\n",
    "\n",
    "data_Target_Homes_Not_Scaled_WithDummies.rename(columns={'waterfront_1.0': 'waterfront_1', 'view_1.0': 'view_1',\n",
    "                'view_1.0':'view_1', 'view_2.0':'view_2', 'view_3.0':'view_3', 'view_4.0':'view_4'}, inplace=True)\n",
    "\n",
    "data_Target_Homes_Scaled_WithDummies = data_Target_Homes_Not_Scaled_WithDummies.drop(['bedrooms', 'bathrooms',\n",
    "                                                                                      'sqft_living',\n",
    "                                                                                      'sqft_lot', 'floors', \n",
    "                                                                                      'sqft_above', \n",
    "                                                                                      'sqft_basement',\n",
    "                                                                                      'sqft_living15', \n",
    "                                                                                      'sqft_lot15',\n",
    "                                                                                      'AgeOfHome'],\n",
    "                                                                                     axis = 1)\n",
    "\n",
    "data_Target_Homes_Scaled_WithDummies = data_Target_Homes_Scaled_WithDummies.reset_index(drop=True)\n",
    "data_Target_Homes_Scaled_WithDummies = pd.concat([data_Target_Homes_Scaled_WithDummies, scaled_df_no_index], axis=1)"
   ]
  },
  {
   "cell_type": "code",
   "execution_count": null,
   "metadata": {
    "scrolled": false
   },
   "outputs": [],
   "source": [
    "data_Target_Homes_Scaled_WithDummies.describe()"
   ]
  },
  {
   "cell_type": "code",
   "execution_count": null,
   "metadata": {},
   "outputs": [],
   "source": [
    "model1_Constantants = ['id,','date', 'price', 'yr_built', 'yr_renovated', 'zipcode', 'lat',\n",
    "       'long', 'log_price']\n",
    "\n",
    "model1_Categorical_variables = ['waterfront_1', 'view_1', \n",
    "                                'view_2', 'view_3', 'view_4', \n",
    "                                'condition_2', 'condition_3','condition_4', 'condition_5', 'grade_5','grade_6',\n",
    "                                'grade_7','grade_8', 'grade_9', 'grade_10','grade_11', 'ZipFirst3_981',\n",
    "                               \"sls_mnth_2\",\"sls_mnth_3\",\"sls_mnth_4\",\"sls_mnth_5\",\"sls_mnth_6\",\"sls_mnth_7\",\n",
    "                               \"sls_mnth_8\",\"sls_mnth_9\", \"sls_mnth_10\",\"sls_mnth_11\",\"sls_mnth_12\"]"
   ]
  },
  {
   "cell_type": "markdown",
   "metadata": {},
   "source": [
    "Next Find Correlation and Mulicolinearity"
   ]
  },
  {
   "cell_type": "code",
   "execution_count": null,
   "metadata": {
    "scrolled": true
   },
   "outputs": [],
   "source": [
    "model1_Categorical_variables_to_remove = ['grade_5','grade_6','condition_3', 'condition_2', 'grade_11']\n",
    "model1_Categorical_variables = [e for e in model1_Categorical_variables if e not in (model1_Categorical_variables_to_remove)]\n",
    "\n",
    "model1_Continuous_variables_to_remove = ['NA']\n",
    "model1_Continuous_variables = [e for e in model1_Continuous_variables if e not in (model1_Continuous_variables_to_remove)]\n",
    "\n",
    "colstoCheck = model1_Categorical_variables + model1_Continuous_variables\n",
    "\n",
    "data_Review_Colinearity_Model1 = data_Target_Homes_Scaled_WithDummies[colstoCheck]\n",
    "df_fromCheck = checkForColinearity (data_Review_Colinearity_Model1)\n",
    "df_fromCheck"
   ]
  },
  {
   "cell_type": "code",
   "execution_count": null,
   "metadata": {
    "scrolled": true
   },
   "outputs": [],
   "source": [
    "model1_Categorical_variables_to_remove = ['grade_7']\n",
    "model1_Categorical_variables = [e for e in model1_Categorical_variables if e not in (model1_Categorical_variables_to_remove)]\n",
    "\n",
    "\n",
    "model1_Continuous_variables_to_remove = ['floors', \"AgeOfHome\"]\n",
    "model1_Continuous_variables = [e for e in model1_Continuous_variables if e not in (model1_Continuous_variables_to_remove)]\n",
    "\n",
    "\n",
    "#Create Dataframefor Correlation check\n",
    "colstoCheck = model1_Categorical_variables + model1_Continuous_variables\n",
    "\n",
    "data_Review_Colinearity_Model1 = data_Target_Homes_Scaled_WithDummies[colstoCheck]\n",
    "df_fromCheck = checkForColinearity (data_Review_Colinearity_Model1)\n",
    "df_fromCheck"
   ]
  },
  {
   "cell_type": "code",
   "execution_count": null,
   "metadata": {
    "scrolled": false
   },
   "outputs": [],
   "source": [
    "vifResults = checkForVIF(data_Review_Colinearity_Model1)\n",
    "vifResults"
   ]
  },
  {
   "cell_type": "code",
   "execution_count": null,
   "metadata": {},
   "outputs": [],
   "source": [
    "# Create new variables Rooms and sqft_Above_Combo given high vifs\n",
    "data_Review_Colinearity_Model1[\"ttl_Rooms\"] = data_Review_Colinearity_Model1['bedrooms']*data_Review_Colinearity_Model1['bathrooms']\n",
    "data_Review_Colinearity_Model1[\"sqft_Above_Combo\"] = data_Review_Colinearity_Model1['sqft_above']*data_Review_Colinearity_Model1['sqft_living15']\n",
    "\n",
    "#drop variable that were associated with interaction above\n",
    "data_Review_Colinearity_Model1 = data_Review_Colinearity_Model1.drop(['bedrooms','bathrooms', 'sqft_living15', 'sqft_above'], axis=1)\n",
    "checkForVIF(data_Review_Colinearity_Model1)"
   ]
  },
  {
   "cell_type": "code",
   "execution_count": null,
   "metadata": {
    "scrolled": true
   },
   "outputs": [],
   "source": [
    "correlation_heatmap(data_Review_Colinearity_Model1)"
   ]
  },
  {
   "cell_type": "code",
   "execution_count": null,
   "metadata": {},
   "outputs": [],
   "source": [
    "#Remove Columns from our list of continuous and Categorical values indentified in VIF and Colinear testing\n",
    "\n",
    "model1_Categorical_variables_to_remove = ['NA']\n",
    "model1_Categorical_variables = [e for e in model1_Categorical_variables if e not in (model1_Categorical_variables_to_remove)]\n",
    "\n",
    "\n",
    "model1_Continuous_variables_to_remove = ['sqft_above','sqft_living15','bathrooms','bedrooms']\n",
    "model1_Continuous_variables = [e for e in model1_Continuous_variables if e not in (model1_Continuous_variables_to_remove)]\n",
    "\n",
    "#Add newly created features to model\n",
    "data_Target_Homes_Scaled_WithDummies[\"ttl_Rooms\"] = data_Review_Colinearity_Model1[\"ttl_Rooms\"]\n",
    "model1_Continuous_variables.append(\"ttl_Rooms\")\n",
    "data_Target_Homes_Scaled_WithDummies[\"sqft_Above_Combo\"] = data_Review_Colinearity_Model1[\"sqft_Above_Combo\"]\n",
    "model1_Continuous_variables.append(\"sqft_Above_Combo\")"
   ]
  },
  {
   "cell_type": "markdown",
   "metadata": {},
   "source": [
    "##    C. Create Pickle of Dataset"
   ]
  },
  {
   "cell_type": "markdown",
   "metadata": {},
   "source": [
    "Get All needed fields ready for Pickle file"
   ]
  },
  {
   "cell_type": "code",
   "execution_count": null,
   "metadata": {},
   "outputs": [],
   "source": [
    "FieldsMovingForward = ['id', 'price','log_price','date', 'zipcode', 'lat','long'] \n",
    "FieldsMovingForward.extend(data_Review_Colinearity_Model1.columns)\n",
    "data_Target_Homes_Scaled_WithDummies = data_Target_Homes_Scaled_WithDummies[FieldsMovingForward]"
   ]
  },
  {
   "cell_type": "markdown",
   "metadata": {},
   "source": [
    "Create Pickle File for testing Initial Model"
   ]
  },
  {
   "cell_type": "code",
   "execution_count": null,
   "metadata": {},
   "outputs": [],
   "source": [
    "with open('regression_Data_Initial_Model.pickle', 'wb') as f:\n",
    "    pickle.dump(data_Target_Homes_Scaled_WithDummies, f)\n",
    "\n",
    "with open('regression_Data_xref.pickle', 'wb') as f:\n",
    "    pickle.dump(data_Target_Homes_Not_Scaled_WithDummies, f)"
   ]
  },
  {
   "cell_type": "code",
   "execution_count": null,
   "metadata": {
    "scrolled": false
   },
   "outputs": [],
   "source": [
    "pd.reset_option('display.float_format')\n",
    "data_Target_Homes_Scaled_WithDummies.describe()"
   ]
  },
  {
   "cell_type": "markdown",
   "metadata": {},
   "source": [
    "# <u><font color='red'>Model 2 Dataset</font></u>"
   ]
  },
  {
   "cell_type": "markdown",
   "metadata": {},
   "source": [
    "##    A. Adding Features - Location Based"
   ]
  },
  {
   "cell_type": "markdown",
   "metadata": {},
   "source": [
    "Add additional Location Based features - Zip HotnessScores (HotnessScore), Count of Attractions with 7 miles of home(#1,#2,#3 attractions), School district for home and its rank (SchoolDistRank)"
   ]
  },
  {
   "cell_type": "code",
   "execution_count": null,
   "metadata": {},
   "outputs": [],
   "source": [
    "# Get Data From Above - Build Upon Model 1\n",
    "with open('regression_Data_Initial_Model.pickle', 'rb') as file:\n",
    "    data_Model2 = pickle.load(file)"
   ]
  },
  {
   "cell_type": "code",
   "execution_count": null,
   "metadata": {
    "scrolled": true
   },
   "outputs": [],
   "source": [
    "#get Hotness Scores\n",
    "df_Hotness_Zone = pd.read_excel(\"./data/ZIP_cube_HotnessZones.xlsx\")\n",
    "data_with_Hot = data_Model2.merge(df_Hotness_Zone[[\"zipcode\",\"HotnessScore\"]], on=\"zipcode\", how=\"left\")\n",
    "\n",
    "#get School District & Rank\n",
    "df_School_District_Info = pd.read_excel('./data/df_SchoolDistricts_SchoolDigger - all.xlsx', sheet_name='Export')\n",
    "df_School_District_Ranking = pd.read_excel('./data/SchoolDisctrictRank.xlsx', sheet_name='Export')\n",
    "df_School_Districts_withRank = df_School_District_Info.merge(df_School_District_Ranking, on=\"School District\")\n",
    "data_with_Hot_Dist = data_with_Hot.merge(df_School_Districts_withRank[[\"id\",\"SchoolDistRankBin\"]], on=\"id\")\n",
    "# data_with_Hot_Dist.rename(columns={\"State Rank\": \"SchoolDistRank\"})\n",
    "\n",
    "#get points of interest within 7 miles\n",
    "df_Points_Of_Interest = pd.read_excel('./data/df_points_of_int_CrossTab.xlsx')\n",
    "data_with_Hot_Dist_POints = data_with_Hot_Dist.merge(df_Points_Of_Interest, on=\"id\")\n",
    "data_with_Hot_Dist_POints.rename(columns={1: \"#1Attractions\", 2: \"#2Attractions\", 3: \"#3Attractions\"}, inplace=True)\n",
    "\n",
    "#get points of interest within 7 miles\n",
    "df_Proximity_To_FortuneFives = pd.read_excel('./data/df_Counts_of_Fortune500_CrossTab.xlsx')\n",
    "data_with_Hot_Dist_POints = data_with_Hot_Dist_POints.merge(df_Proximity_To_FortuneFives, on=\"id\")\n",
    "\n",
    "\n",
    "# fill in attraction columns \n",
    "data_with_Hot_Dist_POints['#1Attractions'].fillna(0, inplace=True)\n",
    "data_with_Hot_Dist_POints['#2Attractions'].fillna(0, inplace=True)\n",
    "\n",
    "data_with_Hot_Dist_POints.rename(columns={'#1Attractions':'Attractions1', '#2Attractions':'Attractions2', '#3Attractions':'Attractions3',\n",
    "                                          'HotnessScore':'ZipHotnessScore'}, inplace=True)\n",
    "\n",
    "data_with_Hot_Dist_POints.fillna(0, inplace=True)"
   ]
  },
  {
   "cell_type": "code",
   "execution_count": null,
   "metadata": {},
   "outputs": [],
   "source": [
    "data_with_Hot_Dist_POints.head()"
   ]
  },
  {
   "cell_type": "markdown",
   "metadata": {},
   "source": [
    "##     B. Scaling, Converting & Eliminating Multicolinearity"
   ]
  },
  {
   "cell_type": "markdown",
   "metadata": {},
   "source": [
    "Prepare To Scale New Features"
   ]
  },
  {
   "cell_type": "code",
   "execution_count": null,
   "metadata": {},
   "outputs": [],
   "source": [
    "model2_Continuous_variables  = ['ZipHotnessScore','Attractions1', 'Attractions2', 'Attractions3',\n",
    "                               'FFives_Under10', 'FFives_Over10', 'FFives_Over20']\n",
    "\n",
    "model2_Categorical_variables  = ['Sch_d_Top15','Sch_d_Top30', 'Sch_d_Top60']\n",
    "\n",
    "\n",
    "data_with_Hot_Dist_POints_Continuous = data_with_Hot_Dist_POints[model2_Continuous_variables]"
   ]
  },
  {
   "cell_type": "code",
   "execution_count": null,
   "metadata": {},
   "outputs": [],
   "source": [
    "#Scale Continuous initial data\n",
    "scaled_df_no_index2 = scaleData_min_max (data_with_Hot_Dist_POints_Continuous)"
   ]
  },
  {
   "cell_type": "code",
   "execution_count": null,
   "metadata": {},
   "outputs": [],
   "source": [
    "#create dummies for new categorical\n",
    "dummies_SchoolRankBins = pd.get_dummies(data_with_Hot_Dist_POints['SchoolDistRankBin'], prefix='Sch_d', drop_first=True)\n",
    "data_with_Hot_Dist_POints = data_with_Hot_Dist_POints.drop('SchoolDistRankBin', axis=1)\n",
    "\n",
    "#Add dummies back to main DF\n",
    "data_with_Hot_Dist_POints_WithDummies = pd.concat([data_with_Hot_Dist_POints, dummies_SchoolRankBins], axis=1)\n",
    "\n",
    "#drop original features that got scaled above\n",
    "data_with_Hot_Dist_POints_WithDummies = data_with_Hot_Dist_POints_WithDummies.drop(model2_Continuous_variables, axis=1)\n",
    "\n",
    "data_with_Hot_Dist_POints_WithDummies = data_with_Hot_Dist_POints_WithDummies.reset_index(drop=True)\n",
    "\n",
    "#bring newly scaled and dummies together\n",
    "data_with_Hot_Dist_POints = pd.concat([data_with_Hot_Dist_POints_WithDummies, scaled_df_no_index2], axis=1)"
   ]
  },
  {
   "cell_type": "code",
   "execution_count": null,
   "metadata": {
    "scrolled": false
   },
   "outputs": [],
   "source": [
    "data_with_Hot_Dist_POints.head()"
   ]
  },
  {
   "cell_type": "markdown",
   "metadata": {},
   "source": [
    "Check For Colinearity - feed all relevant categorical and dummy variables into colinearity review"
   ]
  },
  {
   "cell_type": "code",
   "execution_count": null,
   "metadata": {
    "scrolled": true
   },
   "outputs": [],
   "source": [
    "model2_Categorical_variables_to_remove = ['NA']\n",
    "# model2_Categorical_variables = model1_Categorical_variables\n",
    "model2_Categorical_variables = [e for e in model2_Categorical_variables if e not in (model2_Categorical_variables_to_remove)]\n",
    "\n",
    "model2_Continuous_variables_to_remove = ['NA']\n",
    "model2_Continuous_variables = [e for e in model2_Continuous_variables if e not in (model2_Continuous_variables_to_remove)]\n",
    "\n",
    "colstoCheck = model2_Categorical_variables + model2_Continuous_variables + model1_Continuous_variables + model1_Categorical_variables\n",
    "\n",
    "data_Review_Colinearity_Model2 = data_with_Hot_Dist_POints[colstoCheck]\n",
    "df_fromCheck = checkForColinearity (data_Review_Colinearity_Model2)\n",
    "df_fromCheck"
   ]
  },
  {
   "cell_type": "code",
   "execution_count": null,
   "metadata": {},
   "outputs": [],
   "source": [
    "vifResults2 = checkForVIF(data_Review_Colinearity_Model2)\n",
    "vifResults2"
   ]
  },
  {
   "cell_type": "markdown",
   "metadata": {},
   "source": [
    "Drop "
   ]
  },
  {
   "cell_type": "code",
   "execution_count": null,
   "metadata": {
    "scrolled": false
   },
   "outputs": [],
   "source": [
    "model1_Categorical_variables_to_remove = ['ZipFirst3_981']\n",
    "model1_Categorical_variables = [e for e in model1_Categorical_variables if e not in (model1_Categorical_variables_to_remove)]\n",
    "\n",
    "model1_Continuous_variables_to_remove = ['AgeOfHome']\n",
    "model1_Continuous_variables = [e for e in model1_Continuous_variables if e not in (model1_Continuous_variables_to_remove)]\n",
    "\n",
    "# model2_Categorical_variables = model1_Categorical_variables\n",
    "model2_Categorical_variables_to_remove = ['NA']\n",
    "model2_Categorical_variables = [e for e in model2_Categorical_variables if e not in (model2_Categorical_variables_to_remove)]\n",
    "\n",
    "model2_Continuous_variables_to_remove = ['Attractions2','Attractions3', 'Attractions1','ZipHotnessScore']\n",
    "model2_Continuous_variables = [e for e in model2_Continuous_variables if e not in (model2_Continuous_variables_to_remove)]\n",
    "\n",
    "colstoCheck = model2_Categorical_variables + model2_Continuous_variables + model1_Continuous_variables + model1_Categorical_variables\n",
    "\n",
    "data_Review_Colinearity_Model2 = data_with_Hot_Dist_POints[colstoCheck]\n",
    "df_fromCheck = checkForColinearity (data_Review_Colinearity_Model2)\n",
    "df_fromCheck"
   ]
  },
  {
   "cell_type": "code",
   "execution_count": null,
   "metadata": {
    "scrolled": true
   },
   "outputs": [],
   "source": [
    "vifResults2 = checkForVIF(data_Review_Colinearity_Model2)\n",
    "vifResults2"
   ]
  },
  {
   "cell_type": "code",
   "execution_count": null,
   "metadata": {
    "scrolled": true
   },
   "outputs": [],
   "source": [
    "correlation_heatmap(data_Review_Colinearity_Model2)"
   ]
  },
  {
   "cell_type": "markdown",
   "metadata": {},
   "source": [
    "##     C. Create Pickle of Dataset"
   ]
  },
  {
   "cell_type": "code",
   "execution_count": null,
   "metadata": {},
   "outputs": [],
   "source": [
    "FieldsMovingForward = ['id', 'log_price','date', 'zipcode', 'lat','long'] \n",
    "FieldsMovingForward.extend(data_Review_Colinearity_Model2.columns)\n",
    "data_with_Hot_Dist_POints = data_with_Hot_Dist_POints[FieldsMovingForward]"
   ]
  },
  {
   "cell_type": "code",
   "execution_count": null,
   "metadata": {},
   "outputs": [],
   "source": [
    "import pickle\n",
    "# Save\n",
    "with open('regression_Data_Second_Model.pickle', 'wb') as f:\n",
    "    pickle.dump(data_with_Hot_Dist_POints, f)"
   ]
  },
  {
   "cell_type": "markdown",
   "metadata": {},
   "source": [
    "# <u> <font color='red'>Model 3 Dataset</font> </u>"
   ]
  },
  {
   "cell_type": "markdown",
   "metadata": {},
   "source": [
    "## A. Adding Features - Previous Year Assesor Values"
   ]
  },
  {
   "cell_type": "markdown",
   "metadata": {},
   "source": [
    "Add additional previous yr county assessor valuation - AppraisedLandValue, AppraisedImpsValue(aka house value), LandToHouseCheck, InflationSinceLastAppraisal"
   ]
  },
  {
   "cell_type": "code",
   "execution_count": null,
   "metadata": {},
   "outputs": [],
   "source": [
    "# Get Data From Above - Build Upon Model 2\n",
    "\n",
    "# Load Data From Pickel\n",
    "with open('regression_Data_Second_Model.pickle', 'rb') as file:\n",
    "    data_Model3 = pickle.load(file)"
   ]
  },
  {
   "cell_type": "code",
   "execution_count": null,
   "metadata": {},
   "outputs": [],
   "source": [
    "data_Model3['salesyear'] = pd.DatetimeIndex(data_Model3['date']).year\n",
    "data_Model3['yearpriortosale'] = data_Model3['salesyear'] - 1\n",
    "data_Model3[\"yearpriortosale_str\"] = data_Model3[\"yearpriortosale\"].astype('str')\n",
    "data_Model3[\"id_str\"] = data_Model3[\"id\"].astype('str')\n",
    "data_Model3['appraisalKey'] = data_Model3['id_str'] + data_Model3['yearpriortosale_str']\n",
    "\n",
    "#get Appraisal Data - inner join to eleminate valus with no appraisals\n",
    "df_Appraisal_Info = pd.read_excel('./data/Appraisals_Values_Table_w_3yrRolling.xlsx')\n",
    "df_Appraisal_Info[\"appraisalKey\"] = df_Appraisal_Info[\"appraisalKey\"].astype('str')\n",
    "df_data_with_Appraisals = data_Model3.merge(df_Appraisal_Info[['YrRollingAppraisal','AppraisedLandValue','AppraisedImpsValue','LandToHouseCheck','InflationSinceLastAppraisal','InflationSinceLastAppraisal_abs','appraisalKey']], on=\"appraisalKey\", how=\"inner\")\n",
    "\n",
    "df_data_with_Appraisals.drop(['appraisalKey', 'id_str', 'salesyear', 'yearpriortosale_str', 'yearpriortosale'], axis=1, inplace=True)"
   ]
  },
  {
   "cell_type": "code",
   "execution_count": null,
   "metadata": {},
   "outputs": [],
   "source": [
    "#Remove addtiaional outliers, \"abnarmally\" expensive, big, etc. homes \n",
    "df_data_with_Appraisals = df_data_with_Appraisals.loc[df_data_with_Appraisals['LandToHouseCheck'] <= .6]\n",
    "df_data_with_Appraisals = df_data_with_Appraisals.loc[df_data_with_Appraisals['InflationSinceLastAppraisal_abs'] <= .15]"
   ]
  },
  {
   "cell_type": "code",
   "execution_count": null,
   "metadata": {},
   "outputs": [],
   "source": [
    "df_data_with_Appraisals.describe()"
   ]
  },
  {
   "cell_type": "code",
   "execution_count": null,
   "metadata": {
    "scrolled": true
   },
   "outputs": [],
   "source": [
    "#distribution of Target/ dependent\n",
    "fig = plt.figure(figsize = (8,8))\n",
    "ax = fig.gca()\n",
    "sns.histplot(x= \"log_price\",\n",
    "             data=df_data_with_Appraisals,\n",
    "             bins=25,\n",
    "             kde=True,\n",
    "             line_kws={\"linewidth\":5}, ax=ax, )\n",
    "plt.show()"
   ]
  },
  {
   "cell_type": "markdown",
   "metadata": {},
   "source": [
    "##     B. Scaling, Converting & Eliminating Multicolinearity"
   ]
  },
  {
   "cell_type": "markdown",
   "metadata": {},
   "source": [
    "Prepare To Scale New Features"
   ]
  },
  {
   "cell_type": "code",
   "execution_count": null,
   "metadata": {},
   "outputs": [],
   "source": [
    "model3_Continuous_variables  = ['YrRollingAppraisal','AppraisedLandValue', \n",
    "                                  'AppraisedImpsValue', 'LandToHouseCheck',\n",
    "                                  'InflationSinceLastAppraisal', \n",
    "                                  'InflationSinceLastAppraisal_abs']\n",
    "\n",
    "\n",
    "data_with_Appraisals_Continuous = df_data_with_Appraisals[model3_Continuous_variables]"
   ]
  },
  {
   "cell_type": "code",
   "execution_count": null,
   "metadata": {},
   "outputs": [],
   "source": [
    "# Scale new continuous variables\n",
    "scaled_df_no_index3 = scaleData_min_max (data_with_Appraisals_Continuous)"
   ]
  },
  {
   "cell_type": "code",
   "execution_count": null,
   "metadata": {},
   "outputs": [],
   "source": [
    "df_data_with_Appraisals = df_data_with_Appraisals.drop(model3_Continuous_variables, axis=1)\n",
    "df_data_with_Appraisals = df_data_with_Appraisals.reset_index(drop=True)\n",
    "df_data_with_Appraisals = pd.concat([df_data_with_Appraisals, scaled_df_no_index3], axis=1)"
   ]
  },
  {
   "cell_type": "code",
   "execution_count": null,
   "metadata": {},
   "outputs": [],
   "source": [
    "df_data_with_Appraisals.head()"
   ]
  },
  {
   "cell_type": "markdown",
   "metadata": {},
   "source": [
    "Check For Colinearity"
   ]
  },
  {
   "cell_type": "code",
   "execution_count": null,
   "metadata": {},
   "outputs": [],
   "source": [
    "model1_Categorical_variables"
   ]
  },
  {
   "cell_type": "code",
   "execution_count": null,
   "metadata": {
    "scrolled": false
   },
   "outputs": [],
   "source": [
    "# model3_Categorical_variables_to_remove = ['NA']\n",
    "# model3_Categorical_variables = model2_Categorical_variables\n",
    "# model3_Categorical_variables = [e for e in model2_Categorical_variables if e not in (model3_Categorical_variables_to_remove)]\n",
    "\n",
    "model3_Continuous_variables_to_remove = ['NA']\n",
    "model3_Continuous_variables = [e for e in model3_Continuous_variables if e not in (model3_Continuous_variables_to_remove)]\n",
    "\n",
    "colstoCheck = model3_Continuous_variables + model2_Categorical_variables + model2_Continuous_variables + model1_Continuous_variables + model1_Categorical_variables\n",
    "\n",
    "data_Review_Colinearity_Model3 = df_data_with_Appraisals[colstoCheck]\n",
    "df_fromCheck = checkForColinearity (data_Review_Colinearity_Model3)\n",
    "df_fromCheck"
   ]
  },
  {
   "cell_type": "code",
   "execution_count": null,
   "metadata": {},
   "outputs": [],
   "source": [
    "vifResults3 = checkForVIF(data_Review_Colinearity_Model3)\n",
    "vifResults3"
   ]
  },
  {
   "cell_type": "code",
   "execution_count": null,
   "metadata": {
    "scrolled": true
   },
   "outputs": [],
   "source": [
    "model1_Categorical_variables_to_remove = ['waterfront_1']\n",
    "model1_Categorical_variables = [e for e in model1_Categorical_variables if e not in (model1_Categorical_variables_to_remove)]\n",
    "\n",
    "\n",
    "model1_Continuous_variables_to_remove_v1 = ['NA']\n",
    "model1_Continuous_variables = [e for e in model1_Continuous_variables if e not in (model1_Continuous_variables_to_remove_v1)]\n",
    "\n",
    "# model3_Categorical_variables_to_remove = ['NA']\n",
    "# model3_Categorical_variables = model2_Categorical_variables\n",
    "# model3_Categorical_variables = [e for e in model2_Categorical_variables if e not in (model3_Categorical_variables_to_remove)]\n",
    "\n",
    "model3_Continuous_variables_to_remove = ['YrRollingAppraisal','InflationSinceLastAppraisal_abs','LandToHouseCheck',\n",
    "                                         'InflationSinceLastAppraisal']\n",
    "model3_Continuous_variables = [e for e in model3_Continuous_variables if e not in (model3_Continuous_variables_to_remove)]\n",
    "\n",
    "colstoCheck = model3_Continuous_variables + model2_Categorical_variables + model2_Continuous_variables + model1_Categorical_variables + model1_Continuous_variables \n",
    "\n",
    "data_Review_Colinearity_Model3 = df_data_with_Appraisals[colstoCheck]\n",
    "df_fromCheck = checkForColinearity (data_Review_Colinearity_Model3)\n",
    "df_fromCheck"
   ]
  },
  {
   "cell_type": "code",
   "execution_count": null,
   "metadata": {},
   "outputs": [],
   "source": [
    "data_Review_Colinearity_Model3[\"AssesorAppraisals\"] = data_Review_Colinearity_Model3['AppraisedLandValue']*data_Review_Colinearity_Model3['AppraisedImpsValue']\n",
    "data_Review_Colinearity_Model3 = data_Review_Colinearity_Model3.drop(['AppraisedLandValue','AppraisedImpsValue'], axis=1)\n",
    "df_data_with_Appraisals[\"AssesorAppraisals\"] = data_Review_Colinearity_Model3[\"AssesorAppraisals\"]"
   ]
  },
  {
   "cell_type": "code",
   "execution_count": null,
   "metadata": {
    "scrolled": true
   },
   "outputs": [],
   "source": [
    "vifResults3 = checkForVIF(data_Review_Colinearity_Model3)\n",
    "vifResults3"
   ]
  },
  {
   "cell_type": "code",
   "execution_count": null,
   "metadata": {},
   "outputs": [],
   "source": [
    "data_Review_Colinearity_Model3.describe()"
   ]
  },
  {
   "cell_type": "code",
   "execution_count": null,
   "metadata": {
    "scrolled": true
   },
   "outputs": [],
   "source": [
    "correlation_heatmap(data_Review_Colinearity_Model3)"
   ]
  },
  {
   "cell_type": "markdown",
   "metadata": {},
   "source": [
    "## C. Create Pickle of Dataset"
   ]
  },
  {
   "cell_type": "code",
   "execution_count": null,
   "metadata": {},
   "outputs": [],
   "source": [
    "FieldsMovingForward = ['id', 'log_price','date', 'zipcode', 'lat','long'] \n",
    "FieldsMovingForward.extend(data_Review_Colinearity_Model3.columns)\n",
    "df_data_with_Appraisals = df_data_with_Appraisals[FieldsMovingForward]"
   ]
  },
  {
   "cell_type": "code",
   "execution_count": null,
   "metadata": {},
   "outputs": [],
   "source": [
    "import pickle\n",
    "# Save\n",
    "with open('regression_Data_Third_Model.pickle', 'wb') as f:\n",
    "    pickle.dump(df_data_with_Appraisals, f)"
   ]
  },
  {
   "cell_type": "code",
   "execution_count": null,
   "metadata": {},
   "outputs": [],
   "source": [
    "scaler_"
   ]
  },
  {
   "cell_type": "markdown",
   "metadata": {},
   "source": [
    "# Ensure linearity of features(independent) to target(dependent)"
   ]
  },
  {
   "cell_type": "code",
   "execution_count": null,
   "metadata": {
    "scrolled": false
   },
   "outputs": [],
   "source": [
    "data_No_Outliers[\"price\"].describe().apply(\"${0:,.0f}\".format)\n",
    "#\"Average\" - middle class houses between 367k& 638$k"
   ]
  },
  {
   "cell_type": "code",
   "execution_count": null,
   "metadata": {},
   "outputs": [],
   "source": [
    "data_pred = data_No_Outliers[['YrRollingAppraisal','AppraisedLandValue', 'AppraisedImpsValue', 'LandToHouseCheck',\n",
    "       'InflationSinceLastAppraisal','bedrooms', 'bathrooms', 'sqft_living',\n",
    "                                          'sqft_lot', 'floors', 'waterfront', 'view', 'condition', 'grade',\n",
    "                                          'sqft_above', 'sqft_basement', 'sqft_living15', 'sqft_lot15','YearsSinceRenovation', 'AgeOfHome', \n",
    "                                          'price', 'HotnessScore', 'State Rank','#1Attractions', \n",
    "                                          '#2Attractions', '#3Attractions']]\n",
    "\n",
    "plt.figure(figsize=(60,40), facecolor=\"white\")\n",
    "sns.set(font_scale=2)\n",
    "\n",
    "for index, column in enumerate(data_pred):\n",
    "\n",
    "    if column != \"price\":\n",
    "        ax = plt.subplot(6, 5, index+1)\n",
    "        sns.regplot(x=column, y=\"price\", data=data_No_Outliers, ax=ax, label='medium', line_kws={\"color\": \"red\"});\n",
    "        plt.ticklabel_format(style='plain', axis='both')\n",
    "        plt.xticks(fontsize=30)\n",
    "        plt.yticks(fontsize=30)\n",
    "    \n",
    "plt.show();\n"
   ]
  }
 ],
 "metadata": {
  "kernelspec": {
   "display_name": "learn-env",
   "language": "python",
   "name": "learn-env"
  },
  "language_info": {
   "codemirror_mode": {
    "name": "ipython",
    "version": 3
   },
   "file_extension": ".py",
   "mimetype": "text/x-python",
   "name": "python",
   "nbconvert_exporter": "python",
   "pygments_lexer": "ipython3",
   "version": "3.8.3"
  }
 },
 "nbformat": 4,
 "nbformat_minor": 4
}
