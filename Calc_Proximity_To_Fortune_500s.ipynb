{
 "cells": [
  {
   "cell_type": "code",
   "execution_count": 8,
   "metadata": {},
   "outputs": [],
   "source": [
    "import pandas as pd\n",
    "import numpy as np\n",
    "import haversine as hs\n",
    "#!pip install haversine\n",
    "\n",
    "\n",
    "pd.set_option('display.max_row', 1000)\n",
    "pd.set_option('display.max_columns', 50)\n",
    "pd.set_option('display.expand_frame_repr', False)\n",
    "pd.set_option('max_colwidth', None)\n",
    "pd.set_option('display.precision', 0)\n",
    "pd.options.display.float_format = \"{:,.0f}\".format"
   ]
  },
  {
   "cell_type": "code",
   "execution_count": 9,
   "metadata": {},
   "outputs": [],
   "source": [
    "data = pd.read_csv(\"./data/kc_house_data.csv\")\n",
    "df_fortune_500s = pd.read_excel(\"./data/Fortune500LatsLongs.xlsx\")"
   ]
  },
  {
   "cell_type": "code",
   "execution_count": 10,
   "metadata": {},
   "outputs": [],
   "source": [
    "#Merging Cross Ref Df with Points of Intereste Df\n",
    "# CPInts_With_Rank = CPInts.merge(CPInts_Xref, on=\"CODE\", how=\"left\", indicator=True)\n",
    "\n",
    "# CPInts_With_Rank['tup_lat_Long'] = list(zip(CPInts_With_Rank.Y, CPInts_With_Rank.X, CPInts_With_Rank.OBJECTID, CPInts_With_Rank.NAME,CPInts_With_Rank.PointofInterest_Rank))\n",
    "df_fortune_500s['tup_lat_Long_500'] = list(zip(df_fortune_500s.Lat, df_fortune_500s.Long, df_fortune_500s.Company))\n",
    "\n",
    "# df_fortune_500s['tup_lat_Long'] = list(zip(data.lat, data.long, data.id))\n",
    "data['tup_lat_Long'] = list(zip(data.lat, data.long, data.id))"
   ]
  },
  {
   "cell_type": "code",
   "execution_count": 11,
   "metadata": {},
   "outputs": [],
   "source": [
    "df_Dist_From_Fortune500 = pd.DataFrame(columns = ['id', 'Company', 'Distance'])\n",
    "\n",
    "distanceConsideredClose = 7\n",
    "listofValues = []\n",
    "\n",
    "#looping Through Main mdf\n",
    "for HLat, HLong, HouseParcel in data['tup_lat_Long']:\n",
    "    #print(HouseParcel)\n",
    "    \n",
    "    #looping through df that contains interesting places \n",
    "    for fiveH_Lat, fiveH_Long, fiveH_Company in df_fortune_500s['tup_lat_Long_500']:\n",
    "        \n",
    "        #getting the distance between current house and point of interest\n",
    "        distance = round(hs.haversine((HLat,HLong),(fiveH_Lat,fiveH_Long), unit='mi'),2)\n",
    "    \n",
    "        #if point distance < 6 miles insert into a dataframe \n",
    "#         if distance < distanceConsideredClose:\n",
    "        values = [HouseParcel, fiveH_Company, distance]\n",
    "        listofValues.append(values)\n",
    "\n",
    "keys = ['id', 'Company', 'Distance']\n",
    "df_Dist_From_500 = pd.DataFrame(listofValues,columns = keys)\n"
   ]
  },
  {
   "cell_type": "code",
   "execution_count": 12,
   "metadata": {},
   "outputs": [
    {
     "data": {
      "text/plain": [
       "Index(['id', 'Company', 'Distance'], dtype='object')"
      ]
     },
     "execution_count": 12,
     "metadata": {},
     "output_type": "execute_result"
    }
   ],
   "source": [
    "df_Dist_From_500.columns"
   ]
  },
  {
   "cell_type": "code",
   "execution_count": 13,
   "metadata": {},
   "outputs": [],
   "source": [
    "df_Dist_From_500[\"FortuneFiveBin\"] = df_Dist_From_500['Distance'].apply(lambda x : \"Under10\" if x <10 else \"Over10\" if x <20 else \"Over20\")\n",
    "df_Dist_From_500.fillna(0, inplace = True)"
   ]
  },
  {
   "cell_type": "code",
   "execution_count": 14,
   "metadata": {},
   "outputs": [
    {
     "data": {
      "text/plain": [
       "id                0\n",
       "Company           0\n",
       "Distance          0\n",
       "FortuneFiveBin    0\n",
       "dtype: int64"
      ]
     },
     "execution_count": 14,
     "metadata": {},
     "output_type": "execute_result"
    }
   ],
   "source": [
    "df_Dist_From_500.isnull().sum()"
   ]
  },
  {
   "cell_type": "code",
   "execution_count": 15,
   "metadata": {},
   "outputs": [
    {
     "data": {
      "text/html": [
       "<div>\n",
       "<style scoped>\n",
       "    .dataframe tbody tr th:only-of-type {\n",
       "        vertical-align: middle;\n",
       "    }\n",
       "\n",
       "    .dataframe tbody tr th {\n",
       "        vertical-align: top;\n",
       "    }\n",
       "\n",
       "    .dataframe thead th {\n",
       "        text-align: right;\n",
       "    }\n",
       "</style>\n",
       "<table border=\"1\" class=\"dataframe\">\n",
       "  <thead>\n",
       "    <tr style=\"text-align: right;\">\n",
       "      <th></th>\n",
       "      <th>id</th>\n",
       "      <th>Company</th>\n",
       "      <th>Distance</th>\n",
       "      <th>FortuneFiveBin</th>\n",
       "    </tr>\n",
       "  </thead>\n",
       "  <tbody>\n",
       "    <tr>\n",
       "      <th>0</th>\n",
       "      <td>7129300520</td>\n",
       "      <td>Amazon</td>\n",
       "      <td>9</td>\n",
       "      <td>Under10</td>\n",
       "    </tr>\n",
       "    <tr>\n",
       "      <th>1</th>\n",
       "      <td>7129300520</td>\n",
       "      <td>Costco Wholesale</td>\n",
       "      <td>10</td>\n",
       "      <td>Under10</td>\n",
       "    </tr>\n",
       "    <tr>\n",
       "      <th>2</th>\n",
       "      <td>7129300520</td>\n",
       "      <td>Microsoft</td>\n",
       "      <td>11</td>\n",
       "      <td>Over10</td>\n",
       "    </tr>\n",
       "    <tr>\n",
       "      <th>3</th>\n",
       "      <td>7129300520</td>\n",
       "      <td>Starbucks</td>\n",
       "      <td>6</td>\n",
       "      <td>Under10</td>\n",
       "    </tr>\n",
       "    <tr>\n",
       "      <th>4</th>\n",
       "      <td>7129300520</td>\n",
       "      <td>Paccar</td>\n",
       "      <td>10</td>\n",
       "      <td>Under10</td>\n",
       "    </tr>\n",
       "  </tbody>\n",
       "</table>\n",
       "</div>"
      ],
      "text/plain": [
       "           id           Company  Distance FortuneFiveBin\n",
       "0  7129300520            Amazon         9        Under10\n",
       "1  7129300520  Costco Wholesale        10        Under10\n",
       "2  7129300520         Microsoft        11         Over10\n",
       "3  7129300520         Starbucks         6        Under10\n",
       "4  7129300520            Paccar        10        Under10"
      ]
     },
     "execution_count": 15,
     "metadata": {},
     "output_type": "execute_result"
    }
   ],
   "source": [
    "df_Dist_From_500.head(5)"
   ]
  },
  {
   "cell_type": "code",
   "execution_count": 16,
   "metadata": {},
   "outputs": [
    {
     "data": {
      "text/html": [
       "<div>\n",
       "<style scoped>\n",
       "    .dataframe tbody tr th:only-of-type {\n",
       "        vertical-align: middle;\n",
       "    }\n",
       "\n",
       "    .dataframe tbody tr th {\n",
       "        vertical-align: top;\n",
       "    }\n",
       "\n",
       "    .dataframe thead th {\n",
       "        text-align: right;\n",
       "    }\n",
       "</style>\n",
       "<table border=\"1\" class=\"dataframe\">\n",
       "  <thead>\n",
       "    <tr style=\"text-align: right;\">\n",
       "      <th></th>\n",
       "      <th>id</th>\n",
       "      <th>FortuneFiveBin</th>\n",
       "      <th>counts</th>\n",
       "    </tr>\n",
       "  </thead>\n",
       "  <tbody>\n",
       "    <tr>\n",
       "      <th>0</th>\n",
       "      <td>1000102</td>\n",
       "      <td>Over10</td>\n",
       "      <td>8</td>\n",
       "    </tr>\n",
       "    <tr>\n",
       "      <th>1</th>\n",
       "      <td>1000102</td>\n",
       "      <td>Over20</td>\n",
       "      <td>10</td>\n",
       "    </tr>\n",
       "    <tr>\n",
       "      <th>2</th>\n",
       "      <td>1000102</td>\n",
       "      <td>Under10</td>\n",
       "      <td>4</td>\n",
       "    </tr>\n",
       "    <tr>\n",
       "      <th>3</th>\n",
       "      <td>1200019</td>\n",
       "      <td>Over10</td>\n",
       "      <td>7</td>\n",
       "    </tr>\n",
       "    <tr>\n",
       "      <th>4</th>\n",
       "      <td>1200019</td>\n",
       "      <td>Over20</td>\n",
       "      <td>1</td>\n",
       "    </tr>\n",
       "    <tr>\n",
       "      <th>...</th>\n",
       "      <td>...</td>\n",
       "      <td>...</td>\n",
       "      <td>...</td>\n",
       "    </tr>\n",
       "    <tr>\n",
       "      <th>58044</th>\n",
       "      <td>9895000040</td>\n",
       "      <td>Over20</td>\n",
       "      <td>1</td>\n",
       "    </tr>\n",
       "    <tr>\n",
       "      <th>58045</th>\n",
       "      <td>9895000040</td>\n",
       "      <td>Under10</td>\n",
       "      <td>3</td>\n",
       "    </tr>\n",
       "    <tr>\n",
       "      <th>58046</th>\n",
       "      <td>9900000190</td>\n",
       "      <td>Over10</td>\n",
       "      <td>5</td>\n",
       "    </tr>\n",
       "    <tr>\n",
       "      <th>58047</th>\n",
       "      <td>9900000190</td>\n",
       "      <td>Over20</td>\n",
       "      <td>1</td>\n",
       "    </tr>\n",
       "    <tr>\n",
       "      <th>58048</th>\n",
       "      <td>9900000190</td>\n",
       "      <td>Under10</td>\n",
       "      <td>5</td>\n",
       "    </tr>\n",
       "  </tbody>\n",
       "</table>\n",
       "<p>58049 rows × 3 columns</p>\n",
       "</div>"
      ],
      "text/plain": [
       "               id FortuneFiveBin  counts\n",
       "0         1000102         Over10       8\n",
       "1         1000102         Over20      10\n",
       "2         1000102        Under10       4\n",
       "3         1200019         Over10       7\n",
       "4         1200019         Over20       1\n",
       "...           ...            ...     ...\n",
       "58044  9895000040         Over20       1\n",
       "58045  9895000040        Under10       3\n",
       "58046  9900000190         Over10       5\n",
       "58047  9900000190         Over20       1\n",
       "58048  9900000190        Under10       5\n",
       "\n",
       "[58049 rows x 3 columns]"
      ]
     },
     "execution_count": 16,
     "metadata": {},
     "output_type": "execute_result"
    }
   ],
   "source": [
    "df_Counts_of_Fortune500 = df_Dist_From_500[[\"id\", \"FortuneFiveBin\"]].groupby([\"id\", \"FortuneFiveBin\"]).size().reset_index(name='counts')\n",
    "df_Counts_of_Fortune500"
   ]
  },
  {
   "cell_type": "code",
   "execution_count": 17,
   "metadata": {},
   "outputs": [
    {
     "data": {
      "text/html": [
       "<div>\n",
       "<style scoped>\n",
       "    .dataframe tbody tr th:only-of-type {\n",
       "        vertical-align: middle;\n",
       "    }\n",
       "\n",
       "    .dataframe tbody tr th {\n",
       "        vertical-align: top;\n",
       "    }\n",
       "\n",
       "    .dataframe thead th {\n",
       "        text-align: right;\n",
       "    }\n",
       "</style>\n",
       "<table border=\"1\" class=\"dataframe\">\n",
       "  <thead>\n",
       "    <tr style=\"text-align: right;\">\n",
       "      <th>FortuneFiveBin</th>\n",
       "      <th>Over10</th>\n",
       "      <th>Over20</th>\n",
       "      <th>Under10</th>\n",
       "    </tr>\n",
       "    <tr>\n",
       "      <th>id</th>\n",
       "      <th></th>\n",
       "      <th></th>\n",
       "      <th></th>\n",
       "    </tr>\n",
       "  </thead>\n",
       "  <tbody>\n",
       "    <tr>\n",
       "      <th>1000102</th>\n",
       "      <td>8</td>\n",
       "      <td>10</td>\n",
       "      <td>4</td>\n",
       "    </tr>\n",
       "    <tr>\n",
       "      <th>1200019</th>\n",
       "      <td>7</td>\n",
       "      <td>1</td>\n",
       "      <td>3</td>\n",
       "    </tr>\n",
       "    <tr>\n",
       "      <th>1200021</th>\n",
       "      <td>7</td>\n",
       "      <td>1</td>\n",
       "      <td>3</td>\n",
       "    </tr>\n",
       "    <tr>\n",
       "      <th>2800031</th>\n",
       "      <td>4</td>\n",
       "      <td>1</td>\n",
       "      <td>6</td>\n",
       "    </tr>\n",
       "    <tr>\n",
       "      <th>3600057</th>\n",
       "      <td>2</td>\n",
       "      <td>1</td>\n",
       "      <td>8</td>\n",
       "    </tr>\n",
       "    <tr>\n",
       "      <th>...</th>\n",
       "      <td>...</td>\n",
       "      <td>...</td>\n",
       "      <td>...</td>\n",
       "    </tr>\n",
       "    <tr>\n",
       "      <th>9842300095</th>\n",
       "      <td>4</td>\n",
       "      <td>1</td>\n",
       "      <td>6</td>\n",
       "    </tr>\n",
       "    <tr>\n",
       "      <th>9842300485</th>\n",
       "      <td>4</td>\n",
       "      <td>1</td>\n",
       "      <td>6</td>\n",
       "    </tr>\n",
       "    <tr>\n",
       "      <th>9842300540</th>\n",
       "      <td>4</td>\n",
       "      <td>1</td>\n",
       "      <td>6</td>\n",
       "    </tr>\n",
       "    <tr>\n",
       "      <th>9895000040</th>\n",
       "      <td>7</td>\n",
       "      <td>1</td>\n",
       "      <td>3</td>\n",
       "    </tr>\n",
       "    <tr>\n",
       "      <th>9900000190</th>\n",
       "      <td>5</td>\n",
       "      <td>1</td>\n",
       "      <td>5</td>\n",
       "    </tr>\n",
       "  </tbody>\n",
       "</table>\n",
       "<p>21420 rows × 3 columns</p>\n",
       "</div>"
      ],
      "text/plain": [
       "FortuneFiveBin  Over10  Over20  Under10\n",
       "id                                     \n",
       "1000102              8      10        4\n",
       "1200019              7       1        3\n",
       "1200021              7       1        3\n",
       "2800031              4       1        6\n",
       "3600057              2       1        8\n",
       "...                ...     ...      ...\n",
       "9842300095           4       1        6\n",
       "9842300485           4       1        6\n",
       "9842300540           4       1        6\n",
       "9895000040           7       1        3\n",
       "9900000190           5       1        5\n",
       "\n",
       "[21420 rows x 3 columns]"
      ]
     },
     "execution_count": 17,
     "metadata": {},
     "output_type": "execute_result"
    }
   ],
   "source": [
    "df_Counts_of_Fortune500_pivot = pd.pivot_table(df_Counts_of_Fortune500, index='id', columns=['FortuneFiveBin'], values='counts', aggfunc='max')\n",
    "df_Counts_of_Fortune500_pivot"
   ]
  },
  {
   "cell_type": "markdown",
   "metadata": {},
   "source": [
    "# Export Files To Excel"
   ]
  },
  {
   "cell_type": "code",
   "execution_count": null,
   "metadata": {},
   "outputs": [],
   "source": [
    "df_Counts_of_Fortune500_pivot.to_excel(\"df_Counts_of_Fortune500_CrossTab.xlsx\")"
   ]
  },
  {
   "cell_type": "code",
   "execution_count": null,
   "metadata": {},
   "outputs": [],
   "source": []
  }
 ],
 "metadata": {
  "kernelspec": {
   "display_name": "learn-env",
   "language": "python",
   "name": "learn-env"
  },
  "language_info": {
   "codemirror_mode": {
    "name": "ipython",
    "version": 3
   },
   "file_extension": ".py",
   "mimetype": "text/x-python",
   "name": "python",
   "nbconvert_exporter": "python",
   "pygments_lexer": "ipython3",
   "version": "3.8.3"
  }
 },
 "nbformat": 4,
 "nbformat_minor": 4
}
