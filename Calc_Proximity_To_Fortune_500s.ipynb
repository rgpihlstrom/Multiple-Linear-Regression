{
 "cells": [
  {
   "cell_type": "code",
   "execution_count": 1,
   "metadata": {},
   "outputs": [],
   "source": [
    "import pandas as pd\n",
    "import numpy as np\n",
    "import haversine as hs\n",
    "\n",
    "pd.set_option('display.max_row', 1000)\n",
    "pd.set_option('display.max_columns', 50)\n",
    "pd.set_option('display.expand_frame_repr', False)\n",
    "pd.set_option('max_colwidth', None)\n",
    "pd.set_option('display.precision', 0)\n",
    "pd.options.display.float_format = \"{:,.0f}\".format"
   ]
  },
  {
   "cell_type": "code",
   "execution_count": 2,
   "metadata": {},
   "outputs": [],
   "source": [
    "data = pd.read_csv(\"./data/kc_house_data.csv\")\n",
    "df_fortune_500s = pd.read_excel(\"./data/Fortune500LatsLongs.xlsx\")"
   ]
  },
  {
   "cell_type": "code",
   "execution_count": 3,
   "metadata": {},
   "outputs": [],
   "source": [
    "df_fortune_500s['tup_lat_Long_500'] = list(zip(df_fortune_500s.Lat, df_fortune_500s.Long, df_fortune_500s.Company))\n",
    "\n",
    "data['tup_lat_Long'] = list(zip(data.lat, data.long, data.id))"
   ]
  },
  {
   "cell_type": "code",
   "execution_count": 4,
   "metadata": {},
   "outputs": [],
   "source": [
    "df_Dist_From_Fortune500 = pd.DataFrame(columns = ['id', 'Company', 'Distance'])\n",
    "\n",
    "distanceConsideredClose = 7\n",
    "listofValues = []\n",
    "\n",
    "#looping Through Main mdf\n",
    "for HLat, HLong, HouseParcel in data['tup_lat_Long']:\n",
    "    #print(HouseParcel)\n",
    "    \n",
    "    #looping through df that contains interesting places \n",
    "    for fiveH_Lat, fiveH_Long, fiveH_Company in df_fortune_500s['tup_lat_Long_500']:\n",
    "        \n",
    "        #getting the distance between current house and point of interest\n",
    "        distance = round(hs.haversine((HLat,HLong),(fiveH_Lat,fiveH_Long), unit='mi'),2)\n",
    "    \n",
    "        #if point distance < 6 miles insert into a dataframe \n",
    "#         if distance < distanceConsideredClose:\n",
    "        values = [HouseParcel, fiveH_Company, distance]\n",
    "        listofValues.append(values)\n",
    "\n",
    "keys = ['id', 'Company', 'Distance']\n",
    "df_Dist_From_500 = pd.DataFrame(listofValues,columns = keys)\n"
   ]
  },
  {
   "cell_type": "code",
   "execution_count": 5,
   "metadata": {},
   "outputs": [],
   "source": [
    "df_Dist_From_500[\"FortuneFiveBin\"] = df_Dist_From_500['Distance'].apply(lambda x : \"Under10\" if x <10 else \"Over10\" if x <20 else \"Over20\")\n",
    "df_Dist_From_500[\"FortuneFiveBin_2\"] = df_Dist_From_500['Distance'].apply(lambda x : \"Under7\" if x <=7 else \"Over7\")\n",
    "\n",
    "df_Dist_From_500.fillna(0, inplace = True)"
   ]
  },
  {
   "cell_type": "code",
   "execution_count": 6,
   "metadata": {},
   "outputs": [],
   "source": [
    "df_Counts_of_Fortune500_FF_3Buckets = df_Dist_From_500[[\"id\", \"FortuneFiveBin\"]].groupby([\"id\", \"FortuneFiveBin\"]).size().reset_index(name='counts')\n",
    "df_Counts_of_Fortune500_FF_2Buckets = df_Dist_From_500[[\"id\", \"FortuneFiveBin_2\"]].groupby([\"id\", \"FortuneFiveBin_2\"]).size().reset_index(name='counts')\n"
   ]
  },
  {
   "cell_type": "code",
   "execution_count": 7,
   "metadata": {},
   "outputs": [],
   "source": [
    "df_Counts_of_Fortune500_FF_3Buckets_pivot = pd.pivot_table(df_Counts_of_Fortune500_FF_3Buckets, index='id', columns=['FortuneFiveBin'], values='counts', aggfunc='max')\n",
    "df_Counts_of_Fortune500_FF_2Buckets_pivot = pd.pivot_table(df_Counts_of_Fortune500_FF_2Buckets, index='id', columns=['FortuneFiveBin_2'], values='counts', aggfunc='max')"
   ]
  },
  {
   "cell_type": "code",
   "execution_count": 8,
   "metadata": {},
   "outputs": [],
   "source": [
    "df_Counts_of_Fortune500_FF_3Buckets_pivot.reset_index()\n",
    "df_Counts_of_Fortune500_FF_2Buckets_pivot.reset_index()\n",
    "df_Counts_of_Fortune500_pivot = df_Counts_of_Fortune500_FF_3Buckets_pivot.merge(df_Counts_of_Fortune500_FF_2Buckets_pivot, on=\"id\")"
   ]
  },
  {
   "cell_type": "code",
   "execution_count": 9,
   "metadata": {},
   "outputs": [],
   "source": [
    "df_Counts_of_Fortune500_pivot = df_Counts_of_Fortune500_pivot.fillna(0)"
   ]
  },
  {
   "cell_type": "markdown",
   "metadata": {},
   "source": [
    "# Export Files To Excel"
   ]
  },
  {
   "cell_type": "code",
   "execution_count": null,
   "metadata": {},
   "outputs": [],
   "source": [
    "df_Counts_of_Fortune500_pivot.to_excel(\"df_Counts_of_Fortune500_CrossTab.xlsx\")"
   ]
  }
 ],
 "metadata": {
  "kernelspec": {
   "display_name": "learn-env",
   "language": "python",
   "name": "learn-env"
  },
  "language_info": {
   "codemirror_mode": {
    "name": "ipython",
    "version": 3
   },
   "file_extension": ".py",
   "mimetype": "text/x-python",
   "name": "python",
   "nbconvert_exporter": "python",
   "pygments_lexer": "ipython3",
   "version": "3.8.3"
  }
 },
 "nbformat": 4,
 "nbformat_minor": 4
}
