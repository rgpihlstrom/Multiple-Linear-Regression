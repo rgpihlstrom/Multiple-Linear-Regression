{
 "cells": [
  {
   "cell_type": "code",
   "execution_count": 34,
   "metadata": {},
   "outputs": [],
   "source": [
    "import pandas as pd\n",
    "import numpy as np\n",
    "import haversine as hs\n",
    "#!pip install haversine\n",
    "\n",
    "\n",
    "pd.set_option('display.max_row', 1000)\n",
    "pd.set_option('display.max_columns', 50)\n",
    "pd.set_option('display.expand_frame_repr', False)\n",
    "pd.set_option('max_colwidth', None)\n",
    "pd.set_option('display.precision', 0)\n",
    "pd.options.display.float_format = \"{:,.0f}\".format"
   ]
  },
  {
   "cell_type": "code",
   "execution_count": 35,
   "metadata": {},
   "outputs": [],
   "source": [
    "data = pd.read_csv(\"./data/kc_house_data.csv\")\n",
    "df_fortune_500s = pd.read_excel(\"./data/Fortune500LatsLongs.xlsx\")"
   ]
  },
  {
   "cell_type": "code",
   "execution_count": 36,
   "metadata": {},
   "outputs": [],
   "source": [
    "#Merging Cross Ref Df with Points of Intereste Df\n",
    "# CPInts_With_Rank = CPInts.merge(CPInts_Xref, on=\"CODE\", how=\"left\", indicator=True)\n",
    "\n",
    "# CPInts_With_Rank['tup_lat_Long'] = list(zip(CPInts_With_Rank.Y, CPInts_With_Rank.X, CPInts_With_Rank.OBJECTID, CPInts_With_Rank.NAME,CPInts_With_Rank.PointofInterest_Rank))\n",
    "df_fortune_500s['tup_lat_Long_500'] = list(zip(df_fortune_500s.Lat, df_fortune_500s.Long, df_fortune_500s.Company))\n",
    "\n",
    "# df_fortune_500s['tup_lat_Long'] = list(zip(data.lat, data.long, data.id))\n",
    "data['tup_lat_Long'] = list(zip(data.lat, data.long, data.id))"
   ]
  },
  {
   "cell_type": "code",
   "execution_count": 37,
   "metadata": {},
   "outputs": [],
   "source": [
    "df_Dist_From_Fortune500 = pd.DataFrame(columns = ['id', 'Company', 'Distance'])\n",
    "\n",
    "distanceConsideredClose = 7\n",
    "listofValues = []\n",
    "\n",
    "#looping Through Main mdf\n",
    "for HLat, HLong, HouseParcel in data['tup_lat_Long']:\n",
    "    #print(HouseParcel)\n",
    "    \n",
    "    #looping through df that contains interesting places \n",
    "    for fiveH_Lat, fiveH_Long, fiveH_Company in df_fortune_500s['tup_lat_Long_500']:\n",
    "        \n",
    "        #getting the distance between current house and point of interest\n",
    "        distance = round(hs.haversine((HLat,HLong),(fiveH_Lat,fiveH_Long), unit='mi'),2)\n",
    "    \n",
    "        #if point distance < 6 miles insert into a dataframe \n",
    "#         if distance < distanceConsideredClose:\n",
    "        values = [HouseParcel, fiveH_Company, distance]\n",
    "        listofValues.append(values)\n",
    "\n",
    "keys = ['id', 'Company', 'Distance']\n",
    "df_Dist_From_500 = pd.DataFrame(listofValues,columns = keys)\n"
   ]
  },
  {
   "cell_type": "code",
   "execution_count": 38,
   "metadata": {},
   "outputs": [
    {
     "data": {
      "text/plain": [
       "Index(['id', 'Company', 'Distance'], dtype='object')"
      ]
     },
     "execution_count": 38,
     "metadata": {},
     "output_type": "execute_result"
    }
   ],
   "source": [
    "df_Dist_From_500.columns"
   ]
  },
  {
   "cell_type": "code",
   "execution_count": 39,
   "metadata": {},
   "outputs": [],
   "source": [
    "df_Dist_From_500[\"FortuneFiveBin\"] = df_Dist_From_500['Distance'].apply(lambda x : \"Under10\" if x <10 else \"Over10\" if x <20 else \"Over20\")\n",
    "df_Dist_From_500[\"FortuneFiveBin_2\"] = df_Dist_From_500['Distance'].apply(lambda x : \"Under7\" if x <=7 else \"Over7\")\n",
    "\n",
    "df_Dist_From_500.fillna(0, inplace = True)"
   ]
  },
  {
   "cell_type": "code",
   "execution_count": 40,
   "metadata": {},
   "outputs": [
    {
     "data": {
      "text/plain": [
       "id                  0\n",
       "Company             0\n",
       "Distance            0\n",
       "FortuneFiveBin      0\n",
       "FortuneFiveBin_2    0\n",
       "dtype: int64"
      ]
     },
     "execution_count": 40,
     "metadata": {},
     "output_type": "execute_result"
    }
   ],
   "source": [
    "df_Dist_From_500.isnull().sum()"
   ]
  },
  {
   "cell_type": "code",
   "execution_count": 41,
   "metadata": {},
   "outputs": [
    {
     "data": {
      "text/html": [
       "<div>\n",
       "<style scoped>\n",
       "    .dataframe tbody tr th:only-of-type {\n",
       "        vertical-align: middle;\n",
       "    }\n",
       "\n",
       "    .dataframe tbody tr th {\n",
       "        vertical-align: top;\n",
       "    }\n",
       "\n",
       "    .dataframe thead th {\n",
       "        text-align: right;\n",
       "    }\n",
       "</style>\n",
       "<table border=\"1\" class=\"dataframe\">\n",
       "  <thead>\n",
       "    <tr style=\"text-align: right;\">\n",
       "      <th></th>\n",
       "      <th>id</th>\n",
       "      <th>Company</th>\n",
       "      <th>Distance</th>\n",
       "      <th>FortuneFiveBin</th>\n",
       "      <th>FortuneFiveBin_2</th>\n",
       "    </tr>\n",
       "  </thead>\n",
       "  <tbody>\n",
       "    <tr>\n",
       "      <th>0</th>\n",
       "      <td>7129300520</td>\n",
       "      <td>Amazon</td>\n",
       "      <td>9</td>\n",
       "      <td>Under10</td>\n",
       "      <td>Over7</td>\n",
       "    </tr>\n",
       "    <tr>\n",
       "      <th>1</th>\n",
       "      <td>7129300520</td>\n",
       "      <td>Costco Wholesale</td>\n",
       "      <td>10</td>\n",
       "      <td>Under10</td>\n",
       "      <td>Over7</td>\n",
       "    </tr>\n",
       "    <tr>\n",
       "      <th>2</th>\n",
       "      <td>7129300520</td>\n",
       "      <td>Microsoft</td>\n",
       "      <td>11</td>\n",
       "      <td>Over10</td>\n",
       "      <td>Over7</td>\n",
       "    </tr>\n",
       "    <tr>\n",
       "      <th>3</th>\n",
       "      <td>7129300520</td>\n",
       "      <td>Starbucks</td>\n",
       "      <td>6</td>\n",
       "      <td>Under10</td>\n",
       "      <td>Under7</td>\n",
       "    </tr>\n",
       "    <tr>\n",
       "      <th>4</th>\n",
       "      <td>7129300520</td>\n",
       "      <td>Paccar</td>\n",
       "      <td>10</td>\n",
       "      <td>Under10</td>\n",
       "      <td>Over7</td>\n",
       "    </tr>\n",
       "  </tbody>\n",
       "</table>\n",
       "</div>"
      ],
      "text/plain": [
       "           id           Company  Distance FortuneFiveBin FortuneFiveBin_2\n",
       "0  7129300520            Amazon         9        Under10            Over7\n",
       "1  7129300520  Costco Wholesale        10        Under10            Over7\n",
       "2  7129300520         Microsoft        11         Over10            Over7\n",
       "3  7129300520         Starbucks         6        Under10           Under7\n",
       "4  7129300520            Paccar        10        Under10            Over7"
      ]
     },
     "execution_count": 41,
     "metadata": {},
     "output_type": "execute_result"
    }
   ],
   "source": [
    "df_Dist_From_500.head(5)"
   ]
  },
  {
   "cell_type": "code",
   "execution_count": 42,
   "metadata": {},
   "outputs": [
    {
     "data": {
      "text/html": [
       "<div>\n",
       "<style scoped>\n",
       "    .dataframe tbody tr th:only-of-type {\n",
       "        vertical-align: middle;\n",
       "    }\n",
       "\n",
       "    .dataframe tbody tr th {\n",
       "        vertical-align: top;\n",
       "    }\n",
       "\n",
       "    .dataframe thead th {\n",
       "        text-align: right;\n",
       "    }\n",
       "</style>\n",
       "<table border=\"1\" class=\"dataframe\">\n",
       "  <thead>\n",
       "    <tr style=\"text-align: right;\">\n",
       "      <th></th>\n",
       "      <th>id</th>\n",
       "      <th>FortuneFiveBin_2</th>\n",
       "      <th>counts</th>\n",
       "    </tr>\n",
       "  </thead>\n",
       "  <tbody>\n",
       "    <tr>\n",
       "      <th>0</th>\n",
       "      <td>1000102</td>\n",
       "      <td>Over7</td>\n",
       "      <td>22</td>\n",
       "    </tr>\n",
       "    <tr>\n",
       "      <th>1</th>\n",
       "      <td>1200019</td>\n",
       "      <td>Over7</td>\n",
       "      <td>9</td>\n",
       "    </tr>\n",
       "    <tr>\n",
       "      <th>2</th>\n",
       "      <td>1200019</td>\n",
       "      <td>Under7</td>\n",
       "      <td>2</td>\n",
       "    </tr>\n",
       "    <tr>\n",
       "      <th>3</th>\n",
       "      <td>1200021</td>\n",
       "      <td>Over7</td>\n",
       "      <td>9</td>\n",
       "    </tr>\n",
       "    <tr>\n",
       "      <th>4</th>\n",
       "      <td>1200021</td>\n",
       "      <td>Under7</td>\n",
       "      <td>2</td>\n",
       "    </tr>\n",
       "    <tr>\n",
       "      <th>...</th>\n",
       "      <td>...</td>\n",
       "      <td>...</td>\n",
       "      <td>...</td>\n",
       "    </tr>\n",
       "    <tr>\n",
       "      <th>37020</th>\n",
       "      <td>9842300540</td>\n",
       "      <td>Under7</td>\n",
       "      <td>4</td>\n",
       "    </tr>\n",
       "    <tr>\n",
       "      <th>37021</th>\n",
       "      <td>9895000040</td>\n",
       "      <td>Over7</td>\n",
       "      <td>10</td>\n",
       "    </tr>\n",
       "    <tr>\n",
       "      <th>37022</th>\n",
       "      <td>9895000040</td>\n",
       "      <td>Under7</td>\n",
       "      <td>1</td>\n",
       "    </tr>\n",
       "    <tr>\n",
       "      <th>37023</th>\n",
       "      <td>9900000190</td>\n",
       "      <td>Over7</td>\n",
       "      <td>9</td>\n",
       "    </tr>\n",
       "    <tr>\n",
       "      <th>37024</th>\n",
       "      <td>9900000190</td>\n",
       "      <td>Under7</td>\n",
       "      <td>2</td>\n",
       "    </tr>\n",
       "  </tbody>\n",
       "</table>\n",
       "<p>37025 rows × 3 columns</p>\n",
       "</div>"
      ],
      "text/plain": [
       "               id FortuneFiveBin_2  counts\n",
       "0         1000102            Over7      22\n",
       "1         1200019            Over7       9\n",
       "2         1200019           Under7       2\n",
       "3         1200021            Over7       9\n",
       "4         1200021           Under7       2\n",
       "...           ...              ...     ...\n",
       "37020  9842300540           Under7       4\n",
       "37021  9895000040            Over7      10\n",
       "37022  9895000040           Under7       1\n",
       "37023  9900000190            Over7       9\n",
       "37024  9900000190           Under7       2\n",
       "\n",
       "[37025 rows x 3 columns]"
      ]
     },
     "execution_count": 42,
     "metadata": {},
     "output_type": "execute_result"
    }
   ],
   "source": [
    "df_Counts_of_Fortune500_FF_3Buckets = df_Dist_From_500[[\"id\", \"FortuneFiveBin\"]].groupby([\"id\", \"FortuneFiveBin\"]).size().reset_index(name='counts')\n",
    "df_Counts_of_Fortune500_FF_3Buckets\n",
    "df_Counts_of_Fortune500_FF_2Buckets = df_Dist_From_500[[\"id\", \"FortuneFiveBin_2\"]].groupby([\"id\", \"FortuneFiveBin_2\"]).size().reset_index(name='counts')\n",
    "df_Counts_of_Fortune500_FF_2Buckets"
   ]
  },
  {
   "cell_type": "code",
   "execution_count": 43,
   "metadata": {},
   "outputs": [
    {
     "data": {
      "text/html": [
       "<div>\n",
       "<style scoped>\n",
       "    .dataframe tbody tr th:only-of-type {\n",
       "        vertical-align: middle;\n",
       "    }\n",
       "\n",
       "    .dataframe tbody tr th {\n",
       "        vertical-align: top;\n",
       "    }\n",
       "\n",
       "    .dataframe thead th {\n",
       "        text-align: right;\n",
       "    }\n",
       "</style>\n",
       "<table border=\"1\" class=\"dataframe\">\n",
       "  <thead>\n",
       "    <tr style=\"text-align: right;\">\n",
       "      <th>FortuneFiveBin_2</th>\n",
       "      <th>Over7</th>\n",
       "      <th>Under7</th>\n",
       "    </tr>\n",
       "    <tr>\n",
       "      <th>id</th>\n",
       "      <th></th>\n",
       "      <th></th>\n",
       "    </tr>\n",
       "  </thead>\n",
       "  <tbody>\n",
       "    <tr>\n",
       "      <th>1000102</th>\n",
       "      <td>22</td>\n",
       "      <td>nan</td>\n",
       "    </tr>\n",
       "    <tr>\n",
       "      <th>1200019</th>\n",
       "      <td>9</td>\n",
       "      <td>2</td>\n",
       "    </tr>\n",
       "    <tr>\n",
       "      <th>1200021</th>\n",
       "      <td>9</td>\n",
       "      <td>2</td>\n",
       "    </tr>\n",
       "    <tr>\n",
       "      <th>2800031</th>\n",
       "      <td>9</td>\n",
       "      <td>2</td>\n",
       "    </tr>\n",
       "    <tr>\n",
       "      <th>3600057</th>\n",
       "      <td>5</td>\n",
       "      <td>6</td>\n",
       "    </tr>\n",
       "    <tr>\n",
       "      <th>...</th>\n",
       "      <td>...</td>\n",
       "      <td>...</td>\n",
       "    </tr>\n",
       "    <tr>\n",
       "      <th>9842300095</th>\n",
       "      <td>7</td>\n",
       "      <td>4</td>\n",
       "    </tr>\n",
       "    <tr>\n",
       "      <th>9842300485</th>\n",
       "      <td>7</td>\n",
       "      <td>4</td>\n",
       "    </tr>\n",
       "    <tr>\n",
       "      <th>9842300540</th>\n",
       "      <td>7</td>\n",
       "      <td>4</td>\n",
       "    </tr>\n",
       "    <tr>\n",
       "      <th>9895000040</th>\n",
       "      <td>10</td>\n",
       "      <td>1</td>\n",
       "    </tr>\n",
       "    <tr>\n",
       "      <th>9900000190</th>\n",
       "      <td>9</td>\n",
       "      <td>2</td>\n",
       "    </tr>\n",
       "  </tbody>\n",
       "</table>\n",
       "<p>21420 rows × 2 columns</p>\n",
       "</div>"
      ],
      "text/plain": [
       "FortuneFiveBin_2  Over7  Under7\n",
       "id                             \n",
       "1000102              22     nan\n",
       "1200019               9       2\n",
       "1200021               9       2\n",
       "2800031               9       2\n",
       "3600057               5       6\n",
       "...                 ...     ...\n",
       "9842300095            7       4\n",
       "9842300485            7       4\n",
       "9842300540            7       4\n",
       "9895000040           10       1\n",
       "9900000190            9       2\n",
       "\n",
       "[21420 rows x 2 columns]"
      ]
     },
     "execution_count": 43,
     "metadata": {},
     "output_type": "execute_result"
    }
   ],
   "source": [
    "df_Counts_of_Fortune500_FF_3Buckets_pivot = pd.pivot_table(df_Counts_of_Fortune500_FF_3Buckets, index='id', columns=['FortuneFiveBin'], values='counts', aggfunc='max')\n",
    "df_Counts_of_Fortune500_FF_3Buckets_pivot\n",
    "df_Counts_of_Fortune500_FF_2Buckets_pivot = pd.pivot_table(df_Counts_of_Fortune500_FF_2Buckets, index='id', columns=['FortuneFiveBin_2'], values='counts', aggfunc='max')\n",
    "df_Counts_of_Fortune500_FF_2Buckets_pivot"
   ]
  },
  {
   "cell_type": "code",
   "execution_count": 44,
   "metadata": {},
   "outputs": [],
   "source": [
    "df_Counts_of_Fortune500_FF_3Buckets_pivot.reset_index()\n",
    "df_Counts_of_Fortune500_FF_2Buckets_pivot.reset_index()\n",
    "df_Counts_of_Fortune500_pivot = df_Counts_of_Fortune500_FF_3Buckets_pivot.merge(df_Counts_of_Fortune500_FF_2Buckets_pivot, on=\"id\")"
   ]
  },
  {
   "cell_type": "code",
   "execution_count": 45,
   "metadata": {},
   "outputs": [],
   "source": [
    "df_Counts_of_Fortune500_pivot = df_Counts_of_Fortune500_pivot.fillna(0)"
   ]
  },
  {
   "cell_type": "markdown",
   "metadata": {},
   "source": [
    "# Export Files To Excel"
   ]
  },
  {
   "cell_type": "code",
   "execution_count": 46,
   "metadata": {},
   "outputs": [],
   "source": [
    "df_Counts_of_Fortune500_pivot.to_excel(\"df_Counts_of_Fortune500_CrossTab.xlsx\")"
   ]
  },
  {
   "cell_type": "code",
   "execution_count": null,
   "metadata": {},
   "outputs": [],
   "source": []
  }
 ],
 "metadata": {
  "kernelspec": {
   "display_name": "learn-env",
   "language": "python",
   "name": "learn-env"
  },
  "language_info": {
   "codemirror_mode": {
    "name": "ipython",
    "version": 3
   },
   "file_extension": ".py",
   "mimetype": "text/x-python",
   "name": "python",
   "nbconvert_exporter": "python",
   "pygments_lexer": "ipython3",
   "version": "3.8.3"
  }
 },
 "nbformat": 4,
 "nbformat_minor": 4
}
