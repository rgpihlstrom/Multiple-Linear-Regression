{
 "cells": [
  {
   "cell_type": "markdown",
   "metadata": {},
   "source": [
    "### This code calculates the distance between each home in our dataset and a list of several hunder popular attractions found within King County.  The output is used to determine the count of attractions within 7 miles of each house as a potential indicator of a price of a home."
   ]
  },
  {
   "cell_type": "code",
   "execution_count": 1,
   "metadata": {},
   "outputs": [],
   "source": [
    "import pandas as pd\n",
    "import numpy as np\n",
    "import haversine as hs\n",
    "pd.set_option('display.max_row', 1000)\n",
    "pd.set_option('display.max_columns', 50)\n",
    "pd.set_option('display.expand_frame_repr', False)\n",
    "pd.set_option('max_colwidth', None)\n",
    "pd.set_option('display.precision', 0)\n",
    "pd.options.display.float_format = \"{:,.0f}\".format"
   ]
  },
  {
   "cell_type": "code",
   "execution_count": 2,
   "metadata": {},
   "outputs": [],
   "source": [
    "data = pd.read_csv(\"./data/kc_house_data.csv\")\n",
    "CPInts = pd.read_excel(\"./ScrapedData/Common_Points_of_Interest_for_King_County.xlsx\")\n",
    "CPInts_Xref = pd.read_excel(\"./ScrapedData/CodesForCommonPointsofInterest.xlsx\")"
   ]
  },
  {
   "cell_type": "code",
   "execution_count": 3,
   "metadata": {},
   "outputs": [],
   "source": [
    "#Merging Cross Ref Df with Points of Intereste Df\n",
    "CPInts_With_Rank = CPInts.merge(CPInts_Xref, on=\"CODE\", how=\"left\", indicator=True)\n",
    "\n",
    "CPInts_With_Rank['tup_lat_Long'] = list(zip(CPInts_With_Rank.Y, CPInts_With_Rank.X, CPInts_With_Rank.OBJECTID, CPInts_With_Rank.NAME,CPInts_With_Rank.PointofInterest_Rank))\n",
    "data['tup_lat_Long'] = list(zip(data.lat, data.long, data.id))"
   ]
  },
  {
   "cell_type": "code",
   "execution_count": 4,
   "metadata": {},
   "outputs": [],
   "source": [
    "CPInts_With_Rank_Filtered = CPInts_With_Rank.loc[CPInts_With_Rank['PointofInterest_Rank']< 4] "
   ]
  },
  {
   "cell_type": "code",
   "execution_count": 5,
   "metadata": {},
   "outputs": [],
   "source": [
    "df_Dist_From_CommonPointOfInt = pd.DataFrame(columns = ['id', 'OBJECTID', 'NAME', 'Distance', 'PointofInterest_Rank' ])\n",
    "distanceConsideredClose = 7\n",
    "listofValues = []\n",
    "#looping Through Main mdf\n",
    "for HLat, HLong, HouseParcel in data['tup_lat_Long']:\n",
    "    #print(HouseParcel)\n",
    "    \n",
    "    #looping through df that contains interesting places \n",
    "    for Pint_Lat, PintLong, Pint_Name, pint_OBJECTID, pint_PointofInterest_Rank  in CPInts_With_Rank_Filtered['tup_lat_Long']:\n",
    "        \n",
    "        #getting the distance between current house and point of interest\n",
    "        distance = round(hs.haversine((HLat,HLong),(Pint_Lat,PintLong), unit='mi'),2)\n",
    "    \n",
    "        #if point distance < 6 miles insert into a dataframe \n",
    "        if distance < distanceConsideredClose:\n",
    "            values = [HouseParcel, Pint_Name, pint_OBJECTID, pint_PointofInterest_Rank, distance]\n",
    "            listofValues.append(values)\n",
    "\n",
    "keys = ['id', 'NAME', 'OBJECTID', 'PointofInterest_Rank', 'Distance']\n",
    "df_Dist_From_CommonPointOfInt = pd.DataFrame(listofValues,columns = keys)\n"
   ]
  },
  {
   "cell_type": "code",
   "execution_count": 6,
   "metadata": {},
   "outputs": [],
   "source": [
    "df_Counts_of_PointsOfInterest = df_Dist_From_CommonPointOfInt[[\"id\", \"PointofInterest_Rank\"]].groupby([\"id\", \"PointofInterest_Rank\"]).size().reset_index(name='counts')"
   ]
  },
  {
   "cell_type": "code",
   "execution_count": 7,
   "metadata": {},
   "outputs": [],
   "source": [
    "df_points_of_int_pivot = pd.pivot_table(df_Counts_of_PointsOfInterest, index='id', columns=['PointofInterest_Rank'], values='counts', aggfunc='max')"
   ]
  },
  {
   "cell_type": "markdown",
   "metadata": {},
   "source": [
    "# Export Files To Excel"
   ]
  },
  {
   "cell_type": "code",
   "execution_count": 14,
   "metadata": {},
   "outputs": [],
   "source": [
    "df_Dist_From_CommonPointOfInt.to_csv(\"df_CommonPointOfInt_Distance_From.csv\")"
   ]
  },
  {
   "cell_type": "code",
   "execution_count": 20,
   "metadata": {},
   "outputs": [],
   "source": [
    "df_Counts_of_PointsOfInterest.to_excel(\"df_CommonPointOfInt_Distance_From_Counts.xlsx\")"
   ]
  },
  {
   "cell_type": "code",
   "execution_count": 9,
   "metadata": {},
   "outputs": [],
   "source": [
    "df_points_of_int_pivot.to_excel(\"df_points_of_int_CrossTab.xlsx\")"
   ]
  }
 ],
 "metadata": {
  "kernelspec": {
   "display_name": "learn-env",
   "language": "python",
   "name": "learn-env"
  },
  "language_info": {
   "codemirror_mode": {
    "name": "ipython",
    "version": 3
   },
   "file_extension": ".py",
   "mimetype": "text/x-python",
   "name": "python",
   "nbconvert_exporter": "python",
   "pygments_lexer": "ipython3",
   "version": "3.8.3"
  }
 },
 "nbformat": 4,
 "nbformat_minor": 4
}
