{
 "cells": [
  {
   "cell_type": "code",
   "execution_count": 4,
   "metadata": {},
   "outputs": [],
   "source": [
    "from bs4 import BeautifulSoup\n",
    "import pandas as pd # data analysis\n",
    "import requests as rq # get url\n",
    "import re\n",
    "from bs4 import BeautifulSoup as bs # data scraping\n",
    "import matplotlib.pyplot as plt # Data visualisation \n",
    "import datetime # Check week number"
   ]
  },
  {
   "cell_type": "code",
   "execution_count": 5,
   "metadata": {},
   "outputs": [],
   "source": [
    "# read file stored in current working directory, using excel file here\n",
    "data = pd.read_csv(\"./data/kc_house_data.csv\")"
   ]
  },
  {
   "cell_type": "code",
   "execution_count": 6,
   "metadata": {},
   "outputs": [],
   "source": [
    "Table = pd.DataFrame(columns = [\"ParcelNumber\", \"SchoolDistrict\", \"SeattleSchoolBoardDistrict\"])"
   ]
  },
  {
   "cell_type": "code",
   "execution_count": null,
   "metadata": {},
   "outputs": [],
   "source": [
    "headers = {\n",
    "        'user-agent': 'Mozilla/5.0 (Windows NT 10.0; Win64; x64) AppleWebKit/537.36 (KHTML, like Gecko) Chrome/86.0.4240.111 Safari/537.36'}\n",
    "listofValues = []\n",
    "\n",
    "for parcelNumber in data[\"id\"]:\n",
    "    ParcelNumber = parcelNumber\n",
    "    norecordfound = False\n",
    "    r=rq.get('https://www5.kingcounty.gov/kcgisreports/dd_report.aspx?PIN={}'.format(ParcelNumber))\n",
    "    p=BeautifulSoup(r.text,'html.parser')\n",
    "    theRow = []\n",
    "    \n",
    "    if p.find('span', id='DistrictsReportControl1_lblSchDST') !=-1 and p.find('span', id='DistrictsReportControl1_lblSchDST'):\n",
    "        SchoolDistrict =  p.find('span', id='DistrictsReportControl1_lblSchDST').text.strip()\n",
    "\n",
    "    else:\n",
    "        SchoolDistrict = \"NotAvailable\"    \n",
    "    \n",
    "    if p.find('span', id='DistrictsReportControl1_lblSeattleSchoolBoardDST') !=-1 and p.find('span', id='DistrictsReportControl1_lblSeattleSchoolBoardDST'):\n",
    "        SeattleSchoolBoardDistrict =  p.find('span', id='DistrictsReportControl1_lblSeattleSchoolBoardDST').text.strip()\n",
    "\n",
    "    else:\n",
    "        SeattleSchoolBoardDistrict = \"NotAvailable\" \n",
    "    theRow = [ParcelNumber,SchoolDistrict, SeattleSchoolBoardDistrict]\n",
    "    listofValues.append(theRow)\n",
    "    \n",
    "keys = [\"ParcelNumber\", \"SchoolDistrict\", \"SeattleSchoolBoardDistrict\"]\n",
    "Table = pd.DataFrame(listofValues,columns = keys)"
   ]
  },
  {
   "cell_type": "code",
   "execution_count": 23,
   "metadata": {},
   "outputs": [],
   "source": [
    "#export to excel\n",
    "Table.to_excel(\"df_SchoolDistricts_By_ParcelNumber.xlsx\")"
   ]
  }
 ],
 "metadata": {
  "kernelspec": {
   "display_name": "learn-env",
   "language": "python",
   "name": "learn-env"
  },
  "language_info": {
   "codemirror_mode": {
    "name": "ipython",
    "version": 3
   },
   "file_extension": ".py",
   "mimetype": "text/x-python",
   "name": "python",
   "nbconvert_exporter": "python",
   "pygments_lexer": "ipython3",
   "version": "3.8.3"
  }
 },
 "nbformat": 4,
 "nbformat_minor": 4
}
