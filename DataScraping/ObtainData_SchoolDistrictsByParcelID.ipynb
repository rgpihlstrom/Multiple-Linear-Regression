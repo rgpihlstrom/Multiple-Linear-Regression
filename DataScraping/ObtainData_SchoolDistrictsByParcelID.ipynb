{
 "cells": [
  {
   "cell_type": "markdown",
   "metadata": {},
   "source": [
    "# Overview\n",
    "\n",
    "### This code is used to get the school district for each of our homes in the dataset"
   ]
  },
  {
   "cell_type": "code",
   "execution_count": 5,
   "metadata": {},
   "outputs": [],
   "source": [
    "# Import required libraries\n",
    "from bs4 import BeautifulSoup\n",
    "import pandas as pd # data analysis\n",
    "import requests as rq # get url\n",
    "import re\n",
    "from bs4 import BeautifulSoup as bs # data scraping\n",
    "import matplotlib.pyplot as plt # Data visualisation \n",
    "import datetime # Check week number"
   ]
  },
  {
   "cell_type": "code",
   "execution_count": 6,
   "metadata": {},
   "outputs": [],
   "source": [
    "# read file stored in current working directory, using excel file here\n",
    "data = pd.read_csv(\"../data/kc_house_data.csv\")"
   ]
  },
  {
   "cell_type": "code",
   "execution_count": 7,
   "metadata": {},
   "outputs": [],
   "source": [
    "#Create dataframe to hold our scraped data\n",
    "Table = pd.DataFrame(columns = [\"ParcelNumber\", \"SchoolDistrict\", \"SeattleSchoolBoardDistrict\"])"
   ]
  },
  {
   "cell_type": "code",
   "execution_count": 10,
   "metadata": {},
   "outputs": [],
   "source": [
    "# This Df is for Testing, use just one id vs. testing entire dataset\n",
    "# d = {'id': [2487200875]}\n",
    "# df = pd.DataFrame(data=d)"
   ]
  },
  {
   "cell_type": "code",
   "execution_count": 12,
   "metadata": {},
   "outputs": [],
   "source": [
    "#This functions scrapes assesor website to get the school district, needed to run this code several times given \n",
    "# restrictions of website\n",
    "\n",
    "Table = pd.DataFrame(columns = [\"id\", \"SchoolDistrict\", \"SeattleSchoolBoardDistrict\"])\n",
    "\n",
    "headers = {\n",
    "        'user-agent': 'Mozilla/5.0 (Windows NT 10.0; Win64; x64) AppleWebKit/537.36 (KHTML, like Gecko) Chrome/86.0.4240.111 Safari/537.36'}\n",
    "listofValues = []\n",
    "\n",
    "# for parcelNumber in data[\"id\"]:\n",
    "for parcelNumber in df[\"id\"]:\n",
    "    ParcelNumber = parcelNumber\n",
    "    norecordfound = False\n",
    "    r=rq.get('https://www5.kingcounty.gov/kcgisreports/dd_report.aspx?PIN={}'.format(ParcelNumber))\n",
    "    p=BeautifulSoup(r.text,'html.parser')\n",
    "    theRow = []\n",
    "    \n",
    "    if p.find('span', id='DistrictsReportControl1_lblSchDST') !=-1 and p.find('span', id='DistrictsReportControl1_lblSchDST'):\n",
    "        SchoolDistrict =  p.find('span', id='DistrictsReportControl1_lblSchDST').text.strip()\n",
    "\n",
    "    else:\n",
    "        SchoolDistrict = \"NotAvailable\"    \n",
    "    \n",
    "    if p.find('span', id='DistrictsReportControl1_lblSeattleSchoolBoardDST') !=-1 and p.find('span', id='DistrictsReportControl1_lblSeattleSchoolBoardDST'):\n",
    "        SeattleSchoolBoardDistrict =  p.find('span', id='DistrictsReportControl1_lblSeattleSchoolBoardDST').text.strip()\n",
    "\n",
    "    else:\n",
    "        SeattleSchoolBoardDistrict = \"NotAvailable\" \n",
    "    theRow = [ParcelNumber,SchoolDistrict, SeattleSchoolBoardDistrict]\n",
    "    listofValues.append(theRow)\n",
    "    \n",
    "keys = [\"ParcelNumber\", \"SchoolDistrict\", \"SeattleSchoolBoardDistrict\"]\n",
    "Table = pd.DataFrame(listofValues,columns = keys)"
   ]
  },
  {
   "cell_type": "code",
   "execution_count": 13,
   "metadata": {},
   "outputs": [],
   "source": [
    "#export to excel\n",
    "Table.to_excel(\"df_SchoolDistricts_By_ParcelNumber.xlsx\")"
   ]
  },
  {
   "cell_type": "code",
   "execution_count": null,
   "metadata": {},
   "outputs": [],
   "source": []
  }
 ],
 "metadata": {
  "kernelspec": {
   "display_name": "learn-env",
   "language": "python",
   "name": "learn-env"
  },
  "language_info": {
   "codemirror_mode": {
    "name": "ipython",
    "version": 3
   },
   "file_extension": ".py",
   "mimetype": "text/x-python",
   "name": "python",
   "nbconvert_exporter": "python",
   "pygments_lexer": "ipython3",
   "version": "3.8.3"
  }
 },
 "nbformat": 4,
 "nbformat_minor": 4
}
